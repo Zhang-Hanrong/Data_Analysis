{
 "cells": [
  {
   "cell_type": "markdown",
   "id": "4dfbe3b6",
   "metadata": {},
   "source": [
    "# 导入数据"
   ]
  },
  {
   "cell_type": "code",
   "execution_count": 3,
   "id": "c76eb513",
   "metadata": {
    "ExecuteTime": {
     "end_time": "2024-05-06T09:24:10.069572Z",
     "start_time": "2024-05-06T09:24:08.714511Z"
    }
   },
   "outputs": [],
   "source": [
    "import pandas as pd     # 数据表\n",
    "import numpy as np     # 数组\n",
    "import re     # 正则表达式\n",
    "import jieba     # 中文分词\n",
    "import matplotlib.pyplot as plt     # 画图\n",
    "from gensim import corpora, models\n",
    "import pyLDAvis     # 交互式LDA可视化\n",
    "import pyLDAvis.gensim_models as gensimvis"
   ]
  },
  {
   "cell_type": "code",
   "execution_count": 2,
   "id": "db41a069",
   "metadata": {
    "ExecuteTime": {
     "end_time": "2024-05-06T09:21:10.340473Z",
     "start_time": "2024-05-06T09:20:35.152456Z"
    }
   },
   "outputs": [
    {
     "name": "stdout",
     "output_type": "stream",
     "text": [
      "Collecting pyLDAvis\n",
      "  Downloading pyLDAvis-3.4.0-py3-none-any.whl (2.6 MB)\n",
      "Requirement already satisfied: setuptools in c:\\users\\dell\\anaconda3\\lib\\site-packages (from pyLDAvis) (52.0.0.post20210125)\n",
      "Requirement already satisfied: jinja2 in c:\\users\\dell\\anaconda3\\lib\\site-packages (from pyLDAvis) (2.11.3)\n",
      "Requirement already satisfied: joblib>=1.2.0 in c:\\users\\dell\\anaconda3\\lib\\site-packages (from pyLDAvis) (1.4.0)\n",
      "Requirement already satisfied: scipy in c:\\users\\dell\\anaconda3\\lib\\site-packages (from pyLDAvis) (1.10.1)\n",
      "Requirement already satisfied: numexpr in c:\\users\\dell\\anaconda3\\lib\\site-packages (from pyLDAvis) (2.7.3)\n",
      "Requirement already satisfied: scikit-learn>=1.0.0 in c:\\users\\dell\\anaconda3\\lib\\site-packages (from pyLDAvis) (1.3.2)\n",
      "Collecting funcy\n",
      "  Downloading funcy-2.0-py2.py3-none-any.whl (30 kB)\n",
      "Requirement already satisfied: gensim in c:\\users\\dell\\anaconda3\\lib\\site-packages (from pyLDAvis) (4.3.2)\n",
      "Collecting pandas>=1.3.4\n",
      "  Downloading pandas-2.0.3-cp38-cp38-win_amd64.whl (10.8 MB)\n",
      "Requirement already satisfied: numpy>=1.22.0 in c:\\users\\dell\\anaconda3\\lib\\site-packages (from pyLDAvis) (1.24.4)\n",
      "Collecting tzdata>=2022.1\n",
      "  Downloading tzdata-2024.1-py2.py3-none-any.whl (345 kB)\n",
      "Collecting python-dateutil>=2.8.2\n",
      "  Downloading python_dateutil-2.9.0.post0-py2.py3-none-any.whl (229 kB)\n",
      "Requirement already satisfied: pytz>=2020.1 in c:\\users\\dell\\anaconda3\\lib\\site-packages (from pandas>=1.3.4->pyLDAvis) (2021.1)\n",
      "Requirement already satisfied: six>=1.5 in c:\\users\\dell\\anaconda3\\lib\\site-packages (from python-dateutil>=2.8.2->pandas>=1.3.4->pyLDAvis) (1.15.0)\n",
      "Requirement already satisfied: threadpoolctl>=2.0.0 in c:\\users\\dell\\anaconda3\\lib\\site-packages (from scikit-learn>=1.0.0->pyLDAvis) (2.1.0)\n",
      "Requirement already satisfied: smart-open>=1.8.1 in c:\\users\\dell\\anaconda3\\lib\\site-packages (from gensim->pyLDAvis) (6.3.0)\n",
      "Requirement already satisfied: MarkupSafe>=0.23 in c:\\users\\dell\\anaconda3\\lib\\site-packages (from jinja2->pyLDAvis) (1.1.1)\n",
      "Installing collected packages: tzdata, python-dateutil, pandas, funcy, pyLDAvis\n",
      "  Attempting uninstall: python-dateutil\n",
      "    Found existing installation: python-dateutil 2.8.1\n",
      "    Uninstalling python-dateutil-2.8.1:\n",
      "      Successfully uninstalled python-dateutil-2.8.1\n",
      "  Attempting uninstall: pandas\n",
      "    Found existing installation: pandas 1.2.4\n",
      "    Uninstalling pandas-1.2.4:\n",
      "      Successfully uninstalled pandas-1.2.4\n",
      "Successfully installed funcy-2.0 pandas-2.0.3 pyLDAvis-3.4.0 python-dateutil-2.9.0.post0 tzdata-2024.1\n",
      "Note: you may need to restart the kernel to use updated packages.\n"
     ]
    },
    {
     "name": "stderr",
     "output_type": "stream",
     "text": [
      "ERROR: pip's dependency resolver does not currently take into account all the packages that are installed. This behaviour is the source of the following dependency conflicts.\n",
      "conda-repo-cli 1.0.4 requires pathlib, which is not installed.\n"
     ]
    }
   ],
   "source": [
    "pip install pyLDAvis"
   ]
  },
  {
   "cell_type": "code",
   "execution_count": 6,
   "id": "2d6a219e",
   "metadata": {
    "ExecuteTime": {
     "end_time": "2024-05-06T09:26:59.115199Z",
     "start_time": "2024-05-06T09:26:57.577387Z"
    }
   },
   "outputs": [
    {
     "name": "stderr",
     "output_type": "stream",
     "text": [
      "C:\\Users\\dell\\anaconda3\\lib\\site-packages\\ipykernel\\ipkernel.py:287: DeprecationWarning: `should_run_async` will not call `transform_cell` automatically in the future. Please pass the result to `transformed_cell` argument and any exception that happen during thetransform in `preprocessing_exc_tuple` in IPython 7.17 and above.\n",
      "  and should_run_async(code)\n"
     ]
    }
   ],
   "source": [
    "df = pd.read_csv('text_analysis_weibo.csv', index_col = 0)"
   ]
  },
  {
   "cell_type": "code",
   "execution_count": 7,
   "id": "cc8fe271",
   "metadata": {
    "ExecuteTime": {
     "end_time": "2024-05-06T09:28:14.314157Z",
     "start_time": "2024-05-06T09:28:14.290337Z"
    }
   },
   "outputs": [
    {
     "name": "stderr",
     "output_type": "stream",
     "text": [
      "C:\\Users\\dell\\anaconda3\\lib\\site-packages\\ipykernel\\ipkernel.py:287: DeprecationWarning: `should_run_async` will not call `transform_cell` automatically in the future. Please pass the result to `transformed_cell` argument and any exception that happen during thetransform in `preprocessing_exc_tuple` in IPython 7.17 and above.\n",
      "  and should_run_async(code)\n"
     ]
    },
    {
     "data": {
      "text/html": [
       "<div>\n",
       "<style scoped>\n",
       "    .dataframe tbody tr th:only-of-type {\n",
       "        vertical-align: middle;\n",
       "    }\n",
       "\n",
       "    .dataframe tbody tr th {\n",
       "        vertical-align: top;\n",
       "    }\n",
       "\n",
       "    .dataframe thead th {\n",
       "        text-align: right;\n",
       "    }\n",
       "</style>\n",
       "<table border=\"1\" class=\"dataframe\">\n",
       "  <thead>\n",
       "    <tr style=\"text-align: right;\">\n",
       "      <th></th>\n",
       "      <th>标题/微博内容</th>\n",
       "      <th>点赞</th>\n",
       "      <th>转发</th>\n",
       "      <th>评论</th>\n",
       "      <th>账号昵称UID加密</th>\n",
       "      <th>粉丝数</th>\n",
       "      <th>关注数</th>\n",
       "      <th>地域</th>\n",
       "    </tr>\n",
       "  </thead>\n",
       "  <tbody>\n",
       "    <tr>\n",
       "      <th>0</th>\n",
       "      <td>#高校通报教师图书馆打电话声音过大出言不逊#公道自在人心，谣言自在人心 ​​</td>\n",
       "      <td>0</td>\n",
       "      <td>0</td>\n",
       "      <td>0</td>\n",
       "      <td>a2331b38901d62d2d9a20529177ef3b3</td>\n",
       "      <td>0</td>\n",
       "      <td>22</td>\n",
       "      <td>湖北</td>\n",
       "    </tr>\n",
       "    <tr>\n",
       "      <th>1</th>\n",
       "      <td>转发C</td>\n",
       "      <td>0</td>\n",
       "      <td>0</td>\n",
       "      <td>0</td>\n",
       "      <td>d6dc4470f51fce93cc0cbad8abf55a75</td>\n",
       "      <td>0</td>\n",
       "      <td>33</td>\n",
       "      <td>广西</td>\n",
       "    </tr>\n",
       "    <tr>\n",
       "      <th>2</th>\n",
       "      <td>【#刘雨昕运动者联濛#河山覆冰雪，健儿迎冬奥[金牌]全能唱跳不设限，运动联濛开新年🇨🇳 期待...</td>\n",
       "      <td>0</td>\n",
       "      <td>0</td>\n",
       "      <td>0</td>\n",
       "      <td>372bc4782eb442b88035f920a7c1a68e</td>\n",
       "      <td>6</td>\n",
       "      <td>85</td>\n",
       "      <td>广东</td>\n",
       "    </tr>\n",
       "    <tr>\n",
       "      <th>3</th>\n",
       "      <td>丁程鑫//@丁程鑫后援会官博:#丁程鑫[超话]# ✨#丁程鑫 二十成金筑梦鑫世界# 大年初一...</td>\n",
       "      <td>0</td>\n",
       "      <td>0</td>\n",
       "      <td>0</td>\n",
       "      <td>6fe0d482bd3e78a3483e2a1d57f14ef2</td>\n",
       "      <td>75</td>\n",
       "      <td>1012</td>\n",
       "      <td>广东</td>\n",
       "    </tr>\n",
       "    <tr>\n",
       "      <th>4</th>\n",
       "      <td>诶，你们真不要脸诶。。。没资格宣传奥运。。。抵制抵制！</td>\n",
       "      <td>0</td>\n",
       "      <td>0</td>\n",
       "      <td>0</td>\n",
       "      <td>872380d71d6ee9130e8b49d331f2baa9</td>\n",
       "      <td>0</td>\n",
       "      <td>10</td>\n",
       "      <td>广东</td>\n",
       "    </tr>\n",
       "  </tbody>\n",
       "</table>\n",
       "</div>"
      ],
      "text/plain": [
       "                                             标题/微博内容  点赞  转发  评论  \\\n",
       "0             #高校通报教师图书馆打电话声音过大出言不逊#公道自在人心，谣言自在人心 ​​   0   0   0   \n",
       "1                                                转发C   0   0   0   \n",
       "2  【#刘雨昕运动者联濛#河山覆冰雪，健儿迎冬奥[金牌]全能唱跳不设限，运动联濛开新年🇨🇳 期待...   0   0   0   \n",
       "3  丁程鑫//@丁程鑫后援会官博:#丁程鑫[超话]# ✨#丁程鑫 二十成金筑梦鑫世界# 大年初一...   0   0   0   \n",
       "4                        诶，你们真不要脸诶。。。没资格宣传奥运。。。抵制抵制！   0   0   0   \n",
       "\n",
       "                          账号昵称UID加密  粉丝数   关注数  地域  \n",
       "0  a2331b38901d62d2d9a20529177ef3b3    0    22  湖北  \n",
       "1  d6dc4470f51fce93cc0cbad8abf55a75    0    33  广西  \n",
       "2  372bc4782eb442b88035f920a7c1a68e    6    85  广东  \n",
       "3  6fe0d482bd3e78a3483e2a1d57f14ef2   75  1012  广东  \n",
       "4  872380d71d6ee9130e8b49d331f2baa9    0    10  广东  "
      ]
     },
     "execution_count": 7,
     "metadata": {},
     "output_type": "execute_result"
    }
   ],
   "source": [
    "df.head()"
   ]
  },
  {
   "cell_type": "markdown",
   "id": "27626074",
   "metadata": {},
   "source": [
    "# 语料预处理 "
   ]
  },
  {
   "cell_type": "markdown",
   "id": "6a277390",
   "metadata": {},
   "source": [
    "## 语料预处理 "
   ]
  },
  {
   "cell_type": "code",
   "execution_count": 8,
   "id": "1ede53d7",
   "metadata": {
    "ExecuteTime": {
     "end_time": "2024-05-06T09:29:28.069460Z",
     "start_time": "2024-05-06T09:29:28.059487Z"
    }
   },
   "outputs": [
    {
     "name": "stderr",
     "output_type": "stream",
     "text": [
      "C:\\Users\\dell\\anaconda3\\lib\\site-packages\\ipykernel\\ipkernel.py:287: DeprecationWarning: `should_run_async` will not call `transform_cell` automatically in the future. Please pass the result to `transformed_cell` argument and any exception that happen during thetransform in `preprocessing_exc_tuple` in IPython 7.17 and above.\n",
      "  and should_run_async(code)\n"
     ]
    },
    {
     "data": {
      "text/plain": [
       "'高校通报教师图书馆打电话声音过大出言不逊公道自在人心谣言自在人心'"
      ]
     },
     "execution_count": 8,
     "metadata": {},
     "output_type": "execute_result"
    }
   ],
   "source": [
    "def remove_nums(text):\n",
    "    nonums = re.sub('[^\\u4e00-\\u9fa5]+', '', text)\n",
    "    return nonums\n",
    "test = df['标题/微博内容'][0]\n",
    "remove_nums(test)[:100]"
   ]
  },
  {
   "cell_type": "markdown",
   "id": "98ed9a24",
   "metadata": {},
   "source": [
    "## 分词"
   ]
  },
  {
   "cell_type": "code",
   "execution_count": 9,
   "id": "283952ef",
   "metadata": {
    "ExecuteTime": {
     "end_time": "2024-05-06T09:32:29.585612Z",
     "start_time": "2024-05-06T09:32:28.992624Z"
    }
   },
   "outputs": [
    {
     "name": "stderr",
     "output_type": "stream",
     "text": [
      "C:\\Users\\dell\\anaconda3\\lib\\site-packages\\ipykernel\\ipkernel.py:287: DeprecationWarning: `should_run_async` will not call `transform_cell` automatically in the future. Please pass the result to `transformed_cell` argument and any exception that happen during thetransform in `preprocessing_exc_tuple` in IPython 7.17 and above.\n",
      "  and should_run_async(code)\n",
      "Building prefix dict from the default dictionary ...\n",
      "Loading model from cache C:\\Users\\dell\\AppData\\Local\\Temp\\jieba.cache\n",
      "Loading model cost 0.579 seconds.\n",
      "Prefix dict has been built successfully.\n"
     ]
    },
    {
     "data": {
      "text/plain": [
       "'# 高校 通报 教师 图书馆 打电话 声音 过大 出言不逊 # 公道 自 在 人心 ， 谣言 自 在 人心   \\u200b \\u200b'"
      ]
     },
     "execution_count": 9,
     "metadata": {},
     "output_type": "execute_result"
    }
   ],
   "source": [
    "# 加载中文停用词词典，可个性化设置\n",
    "# stopwords = open('stopwords.txt', encoding = 'utf-8').read()\n",
    "\n",
    "def clean_text(text):\n",
    "    words = jieba.lcut(text)\n",
    "    # words = [w for w in words if w not in stopwords and w!='[' and w!=']']\n",
    "    return ' '.join(words)\n",
    "\n",
    "test = df['标题/微博内容'][0]\n",
    "clean_text(test)"
   ]
  },
  {
   "cell_type": "code",
   "execution_count": 10,
   "id": "1f5d720a",
   "metadata": {
    "ExecuteTime": {
     "end_time": "2024-05-06T09:35:00.434852Z",
     "start_time": "2024-05-06T09:32:55.271348Z"
    }
   },
   "outputs": [
    {
     "name": "stderr",
     "output_type": "stream",
     "text": [
      "C:\\Users\\dell\\anaconda3\\lib\\site-packages\\ipykernel\\ipkernel.py:287: DeprecationWarning: `should_run_async` will not call `transform_cell` automatically in the future. Please pass the result to `transformed_cell` argument and any exception that happen during thetransform in `preprocessing_exc_tuple` in IPython 7.17 and above.\n",
      "  and should_run_async(code)\n"
     ]
    },
    {
     "data": {
      "text/html": [
       "<div>\n",
       "<style scoped>\n",
       "    .dataframe tbody tr th:only-of-type {\n",
       "        vertical-align: middle;\n",
       "    }\n",
       "\n",
       "    .dataframe tbody tr th {\n",
       "        vertical-align: top;\n",
       "    }\n",
       "\n",
       "    .dataframe thead th {\n",
       "        text-align: right;\n",
       "    }\n",
       "</style>\n",
       "<table border=\"1\" class=\"dataframe\">\n",
       "  <thead>\n",
       "    <tr style=\"text-align: right;\">\n",
       "      <th></th>\n",
       "      <th>标题/微博内容</th>\n",
       "      <th>点赞</th>\n",
       "      <th>转发</th>\n",
       "      <th>评论</th>\n",
       "      <th>账号昵称UID加密</th>\n",
       "      <th>粉丝数</th>\n",
       "      <th>关注数</th>\n",
       "      <th>地域</th>\n",
       "      <th>微博内容分词</th>\n",
       "    </tr>\n",
       "  </thead>\n",
       "  <tbody>\n",
       "    <tr>\n",
       "      <th>0</th>\n",
       "      <td>#高校通报教师图书馆打电话声音过大出言不逊#公道自在人心，谣言自在人心 ​​</td>\n",
       "      <td>0</td>\n",
       "      <td>0</td>\n",
       "      <td>0</td>\n",
       "      <td>a2331b38901d62d2d9a20529177ef3b3</td>\n",
       "      <td>0</td>\n",
       "      <td>22</td>\n",
       "      <td>湖北</td>\n",
       "      <td>[高校, 通报, 教师, 图书馆, 打电话, 声音, 过大, 出言不逊, 公道, 自, 在,...</td>\n",
       "    </tr>\n",
       "    <tr>\n",
       "      <th>1</th>\n",
       "      <td>转发C</td>\n",
       "      <td>0</td>\n",
       "      <td>0</td>\n",
       "      <td>0</td>\n",
       "      <td>d6dc4470f51fce93cc0cbad8abf55a75</td>\n",
       "      <td>0</td>\n",
       "      <td>33</td>\n",
       "      <td>广西</td>\n",
       "      <td>[转发]</td>\n",
       "    </tr>\n",
       "    <tr>\n",
       "      <th>2</th>\n",
       "      <td>【#刘雨昕运动者联濛#河山覆冰雪，健儿迎冬奥[金牌]全能唱跳不设限，运动联濛开新年🇨🇳 期待...</td>\n",
       "      <td>0</td>\n",
       "      <td>0</td>\n",
       "      <td>0</td>\n",
       "      <td>372bc4782eb442b88035f920a7c1a68e</td>\n",
       "      <td>6</td>\n",
       "      <td>85</td>\n",
       "      <td>广东</td>\n",
       "      <td>[刘雨昕, 运动, 者, 联, 濛, 河山, 覆, 冰雪, 健儿, 迎, 冬奥, 金牌, 全...</td>\n",
       "    </tr>\n",
       "    <tr>\n",
       "      <th>3</th>\n",
       "      <td>丁程鑫//@丁程鑫后援会官博:#丁程鑫[超话]# ✨#丁程鑫 二十成金筑梦鑫世界# 大年初一...</td>\n",
       "      <td>0</td>\n",
       "      <td>0</td>\n",
       "      <td>0</td>\n",
       "      <td>6fe0d482bd3e78a3483e2a1d57f14ef2</td>\n",
       "      <td>75</td>\n",
       "      <td>1012</td>\n",
       "      <td>广东</td>\n",
       "      <td>[丁程鑫, 丁程鑫, 后援会, 官博丁, 程鑫, 超话, 丁程鑫, 二十, 成金筑梦鑫, 世...</td>\n",
       "    </tr>\n",
       "    <tr>\n",
       "      <th>4</th>\n",
       "      <td>诶，你们真不要脸诶。。。没资格宣传奥运。。。抵制抵制！</td>\n",
       "      <td>0</td>\n",
       "      <td>0</td>\n",
       "      <td>0</td>\n",
       "      <td>872380d71d6ee9130e8b49d331f2baa9</td>\n",
       "      <td>0</td>\n",
       "      <td>10</td>\n",
       "      <td>广东</td>\n",
       "      <td>[诶, 你们, 真, 不要脸, 诶, 没, 资格, 宣传, 奥运, 抵制, 抵制]</td>\n",
       "    </tr>\n",
       "    <tr>\n",
       "      <th>...</th>\n",
       "      <td>...</td>\n",
       "      <td>...</td>\n",
       "      <td>...</td>\n",
       "      <td>...</td>\n",
       "      <td>...</td>\n",
       "      <td>...</td>\n",
       "      <td>...</td>\n",
       "      <td>...</td>\n",
       "      <td>...</td>\n",
       "    </tr>\n",
       "    <tr>\n",
       "      <th>49995</th>\n",
       "      <td>935天气路况早知道 2022年3月2日 星期三 今日限行尾号3和8 8：00分发布    ...</td>\n",
       "      <td>0</td>\n",
       "      <td>0</td>\n",
       "      <td>0</td>\n",
       "      <td>2231ab79796d569625633acafd9f1351</td>\n",
       "      <td>445</td>\n",
       "      <td>74</td>\n",
       "      <td>河南</td>\n",
       "      <td>[天气, 路况, 早, 知道, 年月日, 星期三, 今日, 限行, 尾号, 和, 分, 发布...</td>\n",
       "    </tr>\n",
       "    <tr>\n",
       "      <th>49996</th>\n",
       "      <td>4月1日起，交通违法记分规则重大调整！ http://t.cn/A66zxfR0 ​​</td>\n",
       "      <td>0</td>\n",
       "      <td>0</td>\n",
       "      <td>0</td>\n",
       "      <td>91c9d380c1cc7811be5ee10ce510d77a</td>\n",
       "      <td>842</td>\n",
       "      <td>54</td>\n",
       "      <td>甘肃</td>\n",
       "      <td>[月, 日, 起, 交通, 违法, 记分, 规则, 重大, 调整]</td>\n",
       "    </tr>\n",
       "    <tr>\n",
       "      <th>49997</th>\n",
       "      <td>转发C</td>\n",
       "      <td>0</td>\n",
       "      <td>0</td>\n",
       "      <td>1</td>\n",
       "      <td>301771db13798e2dd493c02a44e59444</td>\n",
       "      <td>99</td>\n",
       "      <td>3433</td>\n",
       "      <td>江苏</td>\n",
       "      <td>[转发]</td>\n",
       "    </tr>\n",
       "    <tr>\n",
       "      <th>49998</th>\n",
       "      <td>全体     甘肃车主注意       4月1日起，全面实施！           ...</td>\n",
       "      <td>0</td>\n",
       "      <td>0</td>\n",
       "      <td>0</td>\n",
       "      <td>NaN</td>\n",
       "      <td>0</td>\n",
       "      <td>0</td>\n",
       "      <td>甘肃</td>\n",
       "      <td>[全体, 甘肃, 车主, 注意, 月, 日, 起, 全面实施, 一次, 记分, 分值, 将,...</td>\n",
       "    </tr>\n",
       "    <tr>\n",
       "      <th>49999</th>\n",
       "      <td>【南通司机注意！4月1日起，记分规则重大调整】​驾车拨打、接听电话妨碍安全驾驶的，由一次性记...</td>\n",
       "      <td>0</td>\n",
       "      <td>0</td>\n",
       "      <td>0</td>\n",
       "      <td>00ba855b51c9b06bd28abe9987d6e957</td>\n",
       "      <td>314265</td>\n",
       "      <td>342</td>\n",
       "      <td>江苏</td>\n",
       "      <td>[南通, 司机, 注意, 月, 日, 起, 记分, 规则, 重大, 调整, 驾车, 拨打, ...</td>\n",
       "    </tr>\n",
       "  </tbody>\n",
       "</table>\n",
       "<p>50000 rows × 9 columns</p>\n",
       "</div>"
      ],
      "text/plain": [
       "                                                 标题/微博内容  点赞  转发  评论  \\\n",
       "0                 #高校通报教师图书馆打电话声音过大出言不逊#公道自在人心，谣言自在人心 ​​   0   0   0   \n",
       "1                                                    转发C   0   0   0   \n",
       "2      【#刘雨昕运动者联濛#河山覆冰雪，健儿迎冬奥[金牌]全能唱跳不设限，运动联濛开新年🇨🇳 期待...   0   0   0   \n",
       "3      丁程鑫//@丁程鑫后援会官博:#丁程鑫[超话]# ✨#丁程鑫 二十成金筑梦鑫世界# 大年初一...   0   0   0   \n",
       "4                            诶，你们真不要脸诶。。。没资格宣传奥运。。。抵制抵制！   0   0   0   \n",
       "...                                                  ...  ..  ..  ..   \n",
       "49995  935天气路况早知道 2022年3月2日 星期三 今日限行尾号3和8 8：00分发布    ...   0   0   0   \n",
       "49996        4月1日起，交通违法记分规则重大调整！ http://t.cn/A66zxfR0 ​​   0   0   0   \n",
       "49997                                                转发C   0   0   1   \n",
       "49998      全体     甘肃车主注意       4月1日起，全面实施！           ...   0   0   0   \n",
       "49999  【南通司机注意！4月1日起，记分规则重大调整】​驾车拨打、接听电话妨碍安全驾驶的，由一次性记...   0   0   0   \n",
       "\n",
       "                              账号昵称UID加密     粉丝数   关注数  地域  \\\n",
       "0      a2331b38901d62d2d9a20529177ef3b3       0    22  湖北   \n",
       "1      d6dc4470f51fce93cc0cbad8abf55a75       0    33  广西   \n",
       "2      372bc4782eb442b88035f920a7c1a68e       6    85  广东   \n",
       "3      6fe0d482bd3e78a3483e2a1d57f14ef2      75  1012  广东   \n",
       "4      872380d71d6ee9130e8b49d331f2baa9       0    10  广东   \n",
       "...                                 ...     ...   ...  ..   \n",
       "49995  2231ab79796d569625633acafd9f1351     445    74  河南   \n",
       "49996  91c9d380c1cc7811be5ee10ce510d77a     842    54  甘肃   \n",
       "49997  301771db13798e2dd493c02a44e59444      99  3433  江苏   \n",
       "49998                               NaN       0     0  甘肃   \n",
       "49999  00ba855b51c9b06bd28abe9987d6e957  314265   342  江苏   \n",
       "\n",
       "                                                  微博内容分词  \n",
       "0      [高校, 通报, 教师, 图书馆, 打电话, 声音, 过大, 出言不逊, 公道, 自, 在,...  \n",
       "1                                                   [转发]  \n",
       "2      [刘雨昕, 运动, 者, 联, 濛, 河山, 覆, 冰雪, 健儿, 迎, 冬奥, 金牌, 全...  \n",
       "3      [丁程鑫, 丁程鑫, 后援会, 官博丁, 程鑫, 超话, 丁程鑫, 二十, 成金筑梦鑫, 世...  \n",
       "4              [诶, 你们, 真, 不要脸, 诶, 没, 资格, 宣传, 奥运, 抵制, 抵制]  \n",
       "...                                                  ...  \n",
       "49995  [天气, 路况, 早, 知道, 年月日, 星期三, 今日, 限行, 尾号, 和, 分, 发布...  \n",
       "49996                  [月, 日, 起, 交通, 违法, 记分, 规则, 重大, 调整]  \n",
       "49997                                               [转发]  \n",
       "49998  [全体, 甘肃, 车主, 注意, 月, 日, 起, 全面实施, 一次, 记分, 分值, 将,...  \n",
       "49999  [南通, 司机, 注意, 月, 日, 起, 记分, 规则, 重大, 调整, 驾车, 拨打, ...  \n",
       "\n",
       "[50000 rows x 9 columns]"
      ]
     },
     "execution_count": 10,
     "metadata": {},
     "output_type": "execute_result"
    }
   ],
   "source": [
    "df['标题/微博内容'] = df['标题/微博内容'].astype(str)\n",
    "df['微博内容分词'] = df['标题/微博内容'].apply(remove_nums)\n",
    "df['微博内容分词'] = df['微博内容分词'].apply(clean_text)\n",
    "df['微博内容分词'] = df['微博内容分词'].apply(lambda x: x.split())\n",
    "df"
   ]
  },
  {
   "cell_type": "code",
   "execution_count": null,
   "id": "edbf4a24",
   "metadata": {
    "ExecuteTime": {
     "end_time": "2024-05-06T09:35:00.572506Z",
     "start_time": "2024-05-06T09:34:55.038Z"
    }
   },
   "outputs": [],
   "source": [
    "df"
   ]
  },
  {
   "cell_type": "markdown",
   "id": "08449b6a",
   "metadata": {},
   "source": [
    "# LDA"
   ]
  },
  {
   "cell_type": "code",
   "execution_count": 11,
   "id": "c147a4a8",
   "metadata": {
    "ExecuteTime": {
     "end_time": "2024-05-06T09:36:08.432057Z",
     "start_time": "2024-05-06T09:35:45.450772Z"
    }
   },
   "outputs": [
    {
     "name": "stderr",
     "output_type": "stream",
     "text": [
      "C:\\Users\\dell\\anaconda3\\lib\\site-packages\\ipykernel\\ipkernel.py:287: DeprecationWarning: `should_run_async` will not call `transform_cell` automatically in the future. Please pass the result to `transformed_cell` argument and any exception that happen during thetransform in `preprocessing_exc_tuple` in IPython 7.17 and above.\n",
      "  and should_run_async(code)\n"
     ]
    }
   ],
   "source": [
    "dictionary = corpora.Dictionary(df['微博内容分词'])     # 根据分词结果创建字典\n",
    "corpus = [dictionary.doc2bow(text) for text in df['微博内容分词']]     # 根据分词结果创建语料库"
   ]
  },
  {
   "cell_type": "code",
   "execution_count": 12,
   "id": "764da85e",
   "metadata": {
    "ExecuteTime": {
     "end_time": "2024-05-06T09:42:30.299620Z",
     "start_time": "2024-05-06T09:36:54.875748Z"
    }
   },
   "outputs": [
    {
     "name": "stderr",
     "output_type": "stream",
     "text": [
      "C:\\Users\\dell\\anaconda3\\lib\\site-packages\\ipykernel\\ipkernel.py:287: DeprecationWarning: `should_run_async` will not call `transform_cell` automatically in the future. Please pass the result to `transformed_cell` argument and any exception that happen during thetransform in `preprocessing_exc_tuple` in IPython 7.17 and above.\n",
      "  and should_run_async(code)\n"
     ]
    }
   ],
   "source": [
    "# 训练LDA模型\n",
    "lda_model = models.LdaModel(corpus, num_topics=5, id2word=dictionary, passes=15)"
   ]
  },
  {
   "cell_type": "code",
   "execution_count": 14,
   "id": "9a9596a9",
   "metadata": {
    "ExecuteTime": {
     "end_time": "2024-05-06T09:42:48.441631Z",
     "start_time": "2024-05-06T09:42:48.416860Z"
    }
   },
   "outputs": [
    {
     "name": "stdout",
     "output_type": "stream",
     "text": [
      "(0, '0.024*\"儿童\" + 0.017*\"孩子\" + 0.017*\"孤独症\" + 0.013*\"自闭症\" + 0.010*\"我\"')\n",
      "(1, '0.094*\"的\" + 0.025*\"了\" + 0.022*\"是\" + 0.020*\"在\" + 0.013*\"也\"')\n",
      "(2, '0.029*\"的\" + 0.011*\"月\" + 0.010*\"年\" + 0.009*\"市场\" + 0.009*\"在\"')\n",
      "(3, '0.029*\"的\" + 0.015*\"和\" + 0.013*\"发展\" + 0.010*\"建设\" + 0.009*\"等\"')\n",
      "(4, '0.022*\"的\" + 0.010*\"诈骗\" + 0.009*\"疫苗\" + 0.008*\"日\" + 0.008*\"月\"')\n"
     ]
    },
    {
     "name": "stderr",
     "output_type": "stream",
     "text": [
      "C:\\Users\\dell\\anaconda3\\lib\\site-packages\\ipykernel\\ipkernel.py:287: DeprecationWarning: `should_run_async` will not call `transform_cell` automatically in the future. Please pass the result to `transformed_cell` argument and any exception that happen during thetransform in `preprocessing_exc_tuple` in IPython 7.17 and above.\n",
      "  and should_run_async(code)\n"
     ]
    }
   ],
   "source": [
    "# 查看主题\n",
    "topics = lda_model.print_topics(num_words=5)\n",
    "for topic in topics:\n",
    "    print(topic)"
   ]
  },
  {
   "cell_type": "code",
   "execution_count": 15,
   "id": "80b27616",
   "metadata": {
    "ExecuteTime": {
     "end_time": "2024-05-06T09:43:00.257094Z",
     "start_time": "2024-05-06T09:43:00.246153Z"
    }
   },
   "outputs": [
    {
     "name": "stderr",
     "output_type": "stream",
     "text": [
      "C:\\Users\\dell\\anaconda3\\lib\\site-packages\\ipykernel\\ipkernel.py:287: DeprecationWarning: `should_run_async` will not call `transform_cell` automatically in the future. Please pass the result to `transformed_cell` argument and any exception that happen during thetransform in `preprocessing_exc_tuple` in IPython 7.17 and above.\n",
      "  and should_run_async(code)\n"
     ]
    },
    {
     "data": {
      "text/plain": [
       "['高校',\n",
       " '通报',\n",
       " '教师',\n",
       " '图书馆',\n",
       " '打电话',\n",
       " '声音',\n",
       " '过大',\n",
       " '出言不逊',\n",
       " '公道',\n",
       " '自',\n",
       " '在',\n",
       " '人心',\n",
       " '谣言',\n",
       " '自',\n",
       " '在',\n",
       " '人心']"
      ]
     },
     "execution_count": 15,
     "metadata": {},
     "output_type": "execute_result"
    }
   ],
   "source": [
    "df['微博内容分词'].iloc[0]"
   ]
  },
  {
   "cell_type": "code",
   "execution_count": 16,
   "id": "4ba7d1f1",
   "metadata": {
    "ExecuteTime": {
     "end_time": "2024-05-06T09:43:07.001261Z",
     "start_time": "2024-05-06T09:43:06.936021Z"
    }
   },
   "outputs": [
    {
     "name": "stdout",
     "output_type": "stream",
     "text": [
      "\n",
      "Score: 0.8265488147735596\t \n",
      "Topic: 0.024*\"儿童\" + 0.017*\"孩子\" + 0.017*\"孤独症\" + 0.013*\"自闭症\" + 0.010*\"我\" + 0.010*\"孙颖莎\" + 0.008*\"世界\" + 0.007*\"康复\" + 0.006*\"岁\" + 0.006*\"刘雨昕\"\n",
      "\n",
      "Score: 0.1372811198234558\t \n",
      "Topic: 0.094*\"的\" + 0.025*\"了\" + 0.022*\"是\" + 0.020*\"在\" + 0.013*\"也\" + 0.008*\"有\" + 0.007*\"都\" + 0.007*\"和\" + 0.007*\"就\" + 0.006*\"这\"\n",
      "\n",
      "Score: 0.012129101902246475\t \n",
      "Topic: 0.022*\"的\" + 0.010*\"诈骗\" + 0.009*\"疫苗\" + 0.008*\"日\" + 0.008*\"月\" + 0.007*\"信息\" + 0.007*\"考生\" + 0.007*\"年\" + 0.007*\"考试\" + 0.007*\"在\"\n",
      "\n",
      "Score: 0.012070215307176113\t \n",
      "Topic: 0.029*\"的\" + 0.011*\"月\" + 0.010*\"年\" + 0.009*\"市场\" + 0.009*\"在\" + 0.008*\"和\" + 0.007*\"增长\" + 0.007*\"为\" + 0.007*\"汽车\" + 0.007*\"公司\"\n",
      "\n",
      "Score: 0.011970795691013336\t \n",
      "Topic: 0.029*\"的\" + 0.015*\"和\" + 0.013*\"发展\" + 0.010*\"建设\" + 0.009*\"等\" + 0.007*\"在\" + 0.006*\"新\" + 0.006*\"企业\" + 0.005*\"为\" + 0.005*\"项目\"\n"
     ]
    },
    {
     "name": "stderr",
     "output_type": "stream",
     "text": [
      "C:\\Users\\dell\\anaconda3\\lib\\site-packages\\ipykernel\\ipkernel.py:287: DeprecationWarning: `should_run_async` will not call `transform_cell` automatically in the future. Please pass the result to `transformed_cell` argument and any exception that happen during thetransform in `preprocessing_exc_tuple` in IPython 7.17 and above.\n",
      "  and should_run_async(code)\n"
     ]
    }
   ],
   "source": [
    "for index, score in sorted(lda_model[corpus[0]], key=lambda tup: -1*tup[1]):\n",
    "    print(\"\\nScore: {}\\t \\nTopic: {}\".format(score, lda_model.print_topic(index, 10)))"
   ]
  },
  {
   "cell_type": "code",
   "execution_count": 17,
   "id": "49e47767",
   "metadata": {
    "ExecuteTime": {
     "end_time": "2024-05-06T09:43:21.196674Z",
     "start_time": "2024-05-06T09:43:21.185704Z"
    }
   },
   "outputs": [
    {
     "name": "stderr",
     "output_type": "stream",
     "text": [
      "C:\\Users\\dell\\anaconda3\\lib\\site-packages\\ipykernel\\ipkernel.py:287: DeprecationWarning: `should_run_async` will not call `transform_cell` automatically in the future. Please pass the result to `transformed_cell` argument and any exception that happen during thetransform in `preprocessing_exc_tuple` in IPython 7.17 and above.\n",
      "  and should_run_async(code)\n"
     ]
    }
   ],
   "source": [
    "documents = df['微博内容分词'].values"
   ]
  },
  {
   "cell_type": "code",
   "execution_count": 18,
   "id": "721b6f6f",
   "metadata": {
    "ExecuteTime": {
     "end_time": "2024-05-06T09:43:27.405572Z",
     "start_time": "2024-05-06T09:43:27.388616Z"
    }
   },
   "outputs": [
    {
     "name": "stdout",
     "output_type": "stream",
     "text": [
      "Document 1:\n",
      "[(0, 0.8265512), (1, 0.1372858), (2, 0.012069708), (3, 0.011970719), (4, 0.012122583)]\n",
      "\n",
      "Document 2:\n",
      "[(0, 0.100005575), (1, 0.10000555), (2, 0.5999778), (3, 0.10000555), (4, 0.10000557)]\n",
      "\n",
      "Document 3:\n",
      "[(0, 0.9406442), (2, 0.043488495)]\n",
      "\n",
      "Document 4:\n",
      "[(0, 0.9267971), (3, 0.050657973)]\n",
      "\n",
      "Document 5:\n",
      "[(0, 0.47658738), (1, 0.40283865), (2, 0.016747078), (3, 0.017114887), (4, 0.086711995)]\n",
      "\n",
      "Document 6:\n",
      "[(0, 0.100005575), (1, 0.10000555), (2, 0.5999778), (3, 0.10000555), (4, 0.10000557)]\n",
      "\n",
      "Document 7:\n",
      "[(0, 0.37687), (1, 0.47472513), (3, 0.13840458)]\n",
      "\n",
      "Document 8:\n",
      "[(0, 0.100005575), (1, 0.10000555), (2, 0.5999778), (3, 0.10000555), (4, 0.10000557)]\n",
      "\n",
      "Document 9:\n",
      "[(0, 0.7422889), (1, 0.16323338), (2, 0.07517911)]\n",
      "\n",
      "Document 10:\n",
      "[(0, 0.8353521), (1, 0.018491512), (2, 0.01868628), (3, 0.109035544), (4, 0.018434562)]\n",
      "\n"
     ]
    },
    {
     "name": "stderr",
     "output_type": "stream",
     "text": [
      "C:\\Users\\dell\\anaconda3\\lib\\site-packages\\ipykernel\\ipkernel.py:287: DeprecationWarning: `should_run_async` will not call `transform_cell` automatically in the future. Please pass the result to `transformed_cell` argument and any exception that happen during thetransform in `preprocessing_exc_tuple` in IPython 7.17 and above.\n",
      "  and should_run_async(code)\n"
     ]
    }
   ],
   "source": [
    "# Function to infer topics for a document\n",
    "def infer_topics(lda_model, document):\n",
    "    bow = dictionary.doc2bow(document)\n",
    "    topics = lda_model.get_document_topics(bow)\n",
    "    return topics\n",
    "\n",
    "# Print topics for each document\n",
    "for i, doc in enumerate(documents[:10]):\n",
    "    doc_topics = infer_topics(lda_model, doc)\n",
    "    print(f\"Document {i+1}:\")\n",
    "    print(doc_topics)\n",
    "    print()"
   ]
  },
  {
   "cell_type": "markdown",
   "id": "57c6dfaf",
   "metadata": {},
   "source": [
    "# 可视化"
   ]
  },
  {
   "cell_type": "code",
   "execution_count": 19,
   "id": "21ed87e8",
   "metadata": {
    "ExecuteTime": {
     "end_time": "2024-05-06T09:45:27.778627Z",
     "start_time": "2024-05-06T09:45:14.797274Z"
    }
   },
   "outputs": [
    {
     "name": "stderr",
     "output_type": "stream",
     "text": [
      "C:\\Users\\dell\\anaconda3\\lib\\site-packages\\ipykernel\\ipkernel.py:287: DeprecationWarning: `should_run_async` will not call `transform_cell` automatically in the future. Please pass the result to `transformed_cell` argument and any exception that happen during thetransform in `preprocessing_exc_tuple` in IPython 7.17 and above.\n",
      "  and should_run_async(code)\n"
     ]
    },
    {
     "ename": "ImportError",
     "evalue": "cannot import name 'find_stack_level' from 'pandas.util._exceptions' (C:\\Users\\dell\\anaconda3\\lib\\site-packages\\pandas\\util\\_exceptions.py)",
     "output_type": "error",
     "traceback": [
      "\u001b[1;31m---------------------------------------------------------------------------\u001b[0m",
      "\u001b[1;31mImportError\u001b[0m                               Traceback (most recent call last)",
      "\u001b[1;32m<ipython-input-19-069edf893aa2>\u001b[0m in \u001b[0;36m<module>\u001b[1;34m\u001b[0m\n\u001b[1;32m----> 1\u001b[1;33m \u001b[0mlda_vis\u001b[0m \u001b[1;33m=\u001b[0m \u001b[0mgensimvis\u001b[0m\u001b[1;33m.\u001b[0m\u001b[0mprepare\u001b[0m\u001b[1;33m(\u001b[0m\u001b[0mlda_model\u001b[0m\u001b[1;33m,\u001b[0m \u001b[0mcorpus\u001b[0m\u001b[1;33m,\u001b[0m \u001b[0mdictionary\u001b[0m\u001b[1;33m,\u001b[0m \u001b[0mn_jobs\u001b[0m\u001b[1;33m=\u001b[0m\u001b[1;36m1\u001b[0m\u001b[1;33m)\u001b[0m \u001b[1;31m# 备注：上述语句如果在数据量比较大的时候跑不出来，可以选择加一个n_jobs=1的参数，降低计算量，避免报错\u001b[0m\u001b[1;33m\u001b[0m\u001b[1;33m\u001b[0m\u001b[0m\n\u001b[0m\u001b[0;32m      2\u001b[0m \u001b[1;31m# 显示可视化界面\u001b[0m\u001b[1;33m\u001b[0m\u001b[1;33m\u001b[0m\u001b[1;33m\u001b[0m\u001b[0m\n\u001b[0;32m      3\u001b[0m \u001b[0mpyLDAvis\u001b[0m\u001b[1;33m.\u001b[0m\u001b[0mdisplay\u001b[0m\u001b[1;33m(\u001b[0m\u001b[0mlda_vis\u001b[0m\u001b[1;33m)\u001b[0m\u001b[1;33m\u001b[0m\u001b[1;33m\u001b[0m\u001b[0m\n",
      "\u001b[1;32m~\\anaconda3\\lib\\site-packages\\pyLDAvis\\gensim_models.py\u001b[0m in \u001b[0;36mprepare\u001b[1;34m(topic_model, corpus, dictionary, doc_topic_dist, **kwargs)\u001b[0m\n\u001b[0;32m    121\u001b[0m     \"\"\"\n\u001b[0;32m    122\u001b[0m     \u001b[0mopts\u001b[0m \u001b[1;33m=\u001b[0m \u001b[0mfp\u001b[0m\u001b[1;33m.\u001b[0m\u001b[0mmerge\u001b[0m\u001b[1;33m(\u001b[0m\u001b[0m_extract_data\u001b[0m\u001b[1;33m(\u001b[0m\u001b[0mtopic_model\u001b[0m\u001b[1;33m,\u001b[0m \u001b[0mcorpus\u001b[0m\u001b[1;33m,\u001b[0m \u001b[0mdictionary\u001b[0m\u001b[1;33m,\u001b[0m \u001b[0mdoc_topic_dist\u001b[0m\u001b[1;33m)\u001b[0m\u001b[1;33m,\u001b[0m \u001b[0mkwargs\u001b[0m\u001b[1;33m)\u001b[0m\u001b[1;33m\u001b[0m\u001b[1;33m\u001b[0m\u001b[0m\n\u001b[1;32m--> 123\u001b[1;33m     \u001b[1;32mreturn\u001b[0m \u001b[0mpyLDAvis\u001b[0m\u001b[1;33m.\u001b[0m\u001b[0mprepare\u001b[0m\u001b[1;33m(\u001b[0m\u001b[1;33m**\u001b[0m\u001b[0mopts\u001b[0m\u001b[1;33m)\u001b[0m\u001b[1;33m\u001b[0m\u001b[1;33m\u001b[0m\u001b[0m\n\u001b[0m",
      "\u001b[1;32m~\\anaconda3\\lib\\site-packages\\pyLDAvis\\_prepare.py\u001b[0m in \u001b[0;36mprepare\u001b[1;34m(topic_term_dists, doc_topic_dists, doc_lengths, vocab, term_frequency, R, lambda_step, mds, n_jobs, plot_opts, sort_topics, start_index)\u001b[0m\n\u001b[0;32m    406\u001b[0m     \u001b[0mdoc_lengths\u001b[0m \u001b[1;33m=\u001b[0m \u001b[0m_series_with_name\u001b[0m\u001b[1;33m(\u001b[0m\u001b[0mdoc_lengths\u001b[0m\u001b[1;33m,\u001b[0m \u001b[1;34m'doc_length'\u001b[0m\u001b[1;33m)\u001b[0m\u001b[1;33m\u001b[0m\u001b[1;33m\u001b[0m\u001b[0m\n\u001b[0;32m    407\u001b[0m     \u001b[0mvocab\u001b[0m \u001b[1;33m=\u001b[0m \u001b[0m_series_with_name\u001b[0m\u001b[1;33m(\u001b[0m\u001b[0mvocab\u001b[0m\u001b[1;33m,\u001b[0m \u001b[1;34m'vocab'\u001b[0m\u001b[1;33m)\u001b[0m\u001b[1;33m\u001b[0m\u001b[1;33m\u001b[0m\u001b[0m\n\u001b[1;32m--> 408\u001b[1;33m     \u001b[0m_input_validate\u001b[0m\u001b[1;33m(\u001b[0m\u001b[0mtopic_term_dists\u001b[0m\u001b[1;33m,\u001b[0m \u001b[0mdoc_topic_dists\u001b[0m\u001b[1;33m,\u001b[0m \u001b[0mdoc_lengths\u001b[0m\u001b[1;33m,\u001b[0m \u001b[0mvocab\u001b[0m\u001b[1;33m,\u001b[0m \u001b[0mterm_frequency\u001b[0m\u001b[1;33m)\u001b[0m\u001b[1;33m\u001b[0m\u001b[1;33m\u001b[0m\u001b[0m\n\u001b[0m\u001b[0;32m    409\u001b[0m     \u001b[0mR\u001b[0m \u001b[1;33m=\u001b[0m \u001b[0mmin\u001b[0m\u001b[1;33m(\u001b[0m\u001b[0mR\u001b[0m\u001b[1;33m,\u001b[0m \u001b[0mlen\u001b[0m\u001b[1;33m(\u001b[0m\u001b[0mvocab\u001b[0m\u001b[1;33m)\u001b[0m\u001b[1;33m)\u001b[0m\u001b[1;33m\u001b[0m\u001b[1;33m\u001b[0m\u001b[0m\n\u001b[0;32m    410\u001b[0m \u001b[1;33m\u001b[0m\u001b[0m\n",
      "\u001b[1;32m~\\anaconda3\\lib\\site-packages\\pyLDAvis\\_prepare.py\u001b[0m in \u001b[0;36m_input_validate\u001b[1;34m(*args)\u001b[0m\n\u001b[0;32m     65\u001b[0m \u001b[1;33m\u001b[0m\u001b[0m\n\u001b[0;32m     66\u001b[0m \u001b[1;32mdef\u001b[0m \u001b[0m_input_validate\u001b[0m\u001b[1;33m(\u001b[0m\u001b[1;33m*\u001b[0m\u001b[0margs\u001b[0m\u001b[1;33m)\u001b[0m\u001b[1;33m:\u001b[0m\u001b[1;33m\u001b[0m\u001b[1;33m\u001b[0m\u001b[0m\n\u001b[1;32m---> 67\u001b[1;33m     \u001b[0mres\u001b[0m \u001b[1;33m=\u001b[0m \u001b[0m_input_check\u001b[0m\u001b[1;33m(\u001b[0m\u001b[1;33m*\u001b[0m\u001b[0margs\u001b[0m\u001b[1;33m)\u001b[0m\u001b[1;33m\u001b[0m\u001b[1;33m\u001b[0m\u001b[0m\n\u001b[0m\u001b[0;32m     68\u001b[0m     \u001b[1;32mif\u001b[0m \u001b[0mres\u001b[0m\u001b[1;33m:\u001b[0m\u001b[1;33m\u001b[0m\u001b[1;33m\u001b[0m\u001b[0m\n\u001b[0;32m     69\u001b[0m         \u001b[1;32mraise\u001b[0m \u001b[0mValidationError\u001b[0m\u001b[1;33m(\u001b[0m\u001b[1;34m'\\n'\u001b[0m \u001b[1;33m+\u001b[0m \u001b[1;34m'\\n'\u001b[0m\u001b[1;33m.\u001b[0m\u001b[0mjoin\u001b[0m\u001b[1;33m(\u001b[0m\u001b[1;33m[\u001b[0m\u001b[1;34m' * '\u001b[0m \u001b[1;33m+\u001b[0m \u001b[0ms\u001b[0m \u001b[1;32mfor\u001b[0m \u001b[0ms\u001b[0m \u001b[1;32min\u001b[0m \u001b[0mres\u001b[0m\u001b[1;33m]\u001b[0m\u001b[1;33m)\u001b[0m\u001b[1;33m)\u001b[0m\u001b[1;33m\u001b[0m\u001b[1;33m\u001b[0m\u001b[0m\n",
      "\u001b[1;32m~\\anaconda3\\lib\\site-packages\\pyLDAvis\\_prepare.py\u001b[0m in \u001b[0;36m_input_check\u001b[1;34m(topic_term_dists, doc_topic_dists, doc_lengths, vocab, term_frequency)\u001b[0m\n\u001b[0;32m     54\u001b[0m         \u001b[0merr\u001b[0m\u001b[1;33m(\u001b[0m\u001b[0merr_msg\u001b[0m\u001b[1;33m)\u001b[0m\u001b[1;33m\u001b[0m\u001b[1;33m\u001b[0m\u001b[0m\n\u001b[0;32m     55\u001b[0m \u001b[1;33m\u001b[0m\u001b[0m\n\u001b[1;32m---> 56\u001b[1;33m     \u001b[1;32mif\u001b[0m \u001b[0m__num_dist_rows__\u001b[0m\u001b[1;33m(\u001b[0m\u001b[0mtopic_term_dists\u001b[0m\u001b[1;33m)\u001b[0m \u001b[1;33m!=\u001b[0m \u001b[0mttds\u001b[0m\u001b[1;33m[\u001b[0m\u001b[1;36m0\u001b[0m\u001b[1;33m]\u001b[0m\u001b[1;33m:\u001b[0m\u001b[1;33m\u001b[0m\u001b[1;33m\u001b[0m\u001b[0m\n\u001b[0m\u001b[0;32m     57\u001b[0m         \u001b[0merr\u001b[0m\u001b[1;33m(\u001b[0m\u001b[1;34m'Not all rows (distributions) in topic_term_dists sum to 1.'\u001b[0m\u001b[1;33m)\u001b[0m\u001b[1;33m\u001b[0m\u001b[1;33m\u001b[0m\u001b[0m\n\u001b[0;32m     58\u001b[0m \u001b[1;33m\u001b[0m\u001b[0m\n",
      "\u001b[1;32m~\\anaconda3\\lib\\site-packages\\pyLDAvis\\_prepare.py\u001b[0m in \u001b[0;36m__num_dist_rows__\u001b[1;34m(array, ndigits)\u001b[0m\n\u001b[0;32m     18\u001b[0m \u001b[1;33m\u001b[0m\u001b[0m\n\u001b[0;32m     19\u001b[0m \u001b[1;32mdef\u001b[0m \u001b[0m__num_dist_rows__\u001b[0m\u001b[1;33m(\u001b[0m\u001b[0marray\u001b[0m\u001b[1;33m,\u001b[0m \u001b[0mndigits\u001b[0m\u001b[1;33m=\u001b[0m\u001b[1;36m2\u001b[0m\u001b[1;33m)\u001b[0m\u001b[1;33m:\u001b[0m\u001b[1;33m\u001b[0m\u001b[1;33m\u001b[0m\u001b[0m\n\u001b[1;32m---> 20\u001b[1;33m     \u001b[1;32mreturn\u001b[0m \u001b[0marray\u001b[0m\u001b[1;33m.\u001b[0m\u001b[0mshape\u001b[0m\u001b[1;33m[\u001b[0m\u001b[1;36m0\u001b[0m\u001b[1;33m]\u001b[0m \u001b[1;33m-\u001b[0m \u001b[0mint\u001b[0m\u001b[1;33m(\u001b[0m\u001b[1;33m(\u001b[0m\u001b[0mpd\u001b[0m\u001b[1;33m.\u001b[0m\u001b[0mDataFrame\u001b[0m\u001b[1;33m(\u001b[0m\u001b[0marray\u001b[0m\u001b[1;33m)\u001b[0m\u001b[1;33m.\u001b[0m\u001b[0msum\u001b[0m\u001b[1;33m(\u001b[0m\u001b[0maxis\u001b[0m\u001b[1;33m=\u001b[0m\u001b[1;36m1\u001b[0m\u001b[1;33m)\u001b[0m \u001b[1;33m<\u001b[0m \u001b[1;36m0.999\u001b[0m\u001b[1;33m)\u001b[0m\u001b[1;33m.\u001b[0m\u001b[0msum\u001b[0m\u001b[1;33m(\u001b[0m\u001b[1;33m)\u001b[0m\u001b[1;33m)\u001b[0m\u001b[1;33m\u001b[0m\u001b[1;33m\u001b[0m\u001b[0m\n\u001b[0m\u001b[0;32m     21\u001b[0m \u001b[1;33m\u001b[0m\u001b[0m\n\u001b[0;32m     22\u001b[0m \u001b[1;33m\u001b[0m\u001b[0m\n",
      "\u001b[1;32m~\\anaconda3\\lib\\site-packages\\pandas\\core\\ops\\common.py\u001b[0m in \u001b[0;36mnew_method\u001b[1;34m(self, other)\u001b[0m\n\u001b[0;32m     63\u001b[0m     \u001b[1;32melse\u001b[0m\u001b[1;33m:\u001b[0m\u001b[1;33m\u001b[0m\u001b[1;33m\u001b[0m\u001b[0m\n\u001b[0;32m     64\u001b[0m         \u001b[0mstripped_name\u001b[0m \u001b[1;33m=\u001b[0m \u001b[0mname\u001b[0m\u001b[1;33m.\u001b[0m\u001b[0mremoveprefix\u001b[0m\u001b[1;33m(\u001b[0m\u001b[1;34m\"__\"\u001b[0m\u001b[1;33m)\u001b[0m\u001b[1;33m.\u001b[0m\u001b[0mremovesuffix\u001b[0m\u001b[1;33m(\u001b[0m\u001b[1;34m\"__\"\u001b[0m\u001b[1;33m)\u001b[0m\u001b[1;33m\u001b[0m\u001b[1;33m\u001b[0m\u001b[0m\n\u001b[1;32m---> 65\u001b[1;33m     \u001b[0mis_cmp\u001b[0m \u001b[1;33m=\u001b[0m \u001b[0mstripped_name\u001b[0m \u001b[1;32min\u001b[0m \u001b[1;33m{\u001b[0m\u001b[1;34m\"eq\"\u001b[0m\u001b[1;33m,\u001b[0m \u001b[1;34m\"ne\"\u001b[0m\u001b[1;33m,\u001b[0m \u001b[1;34m\"lt\"\u001b[0m\u001b[1;33m,\u001b[0m \u001b[1;34m\"le\"\u001b[0m\u001b[1;33m,\u001b[0m \u001b[1;34m\"gt\"\u001b[0m\u001b[1;33m,\u001b[0m \u001b[1;34m\"ge\"\u001b[0m\u001b[1;33m}\u001b[0m\u001b[1;33m\u001b[0m\u001b[1;33m\u001b[0m\u001b[0m\n\u001b[0m\u001b[0;32m     66\u001b[0m \u001b[1;33m\u001b[0m\u001b[0m\n\u001b[0;32m     67\u001b[0m     \u001b[1;33m@\u001b[0m\u001b[0mwraps\u001b[0m\u001b[1;33m(\u001b[0m\u001b[0mmethod\u001b[0m\u001b[1;33m)\u001b[0m\u001b[1;33m\u001b[0m\u001b[1;33m\u001b[0m\u001b[0m\n",
      "\u001b[1;32m~\\anaconda3\\lib\\site-packages\\pandas\\core\\arraylike.py\u001b[0m in \u001b[0;36m__lt__\u001b[1;34m(self, other)\u001b[0m\n\u001b[0;32m     35\u001b[0m     \u001b[1;32mdef\u001b[0m \u001b[0m_cmp_method\u001b[0m\u001b[1;33m(\u001b[0m\u001b[0mself\u001b[0m\u001b[1;33m,\u001b[0m \u001b[0mother\u001b[0m\u001b[1;33m,\u001b[0m \u001b[0mop\u001b[0m\u001b[1;33m)\u001b[0m\u001b[1;33m:\u001b[0m\u001b[1;33m\u001b[0m\u001b[1;33m\u001b[0m\u001b[0m\n\u001b[0;32m     36\u001b[0m         \u001b[1;32mreturn\u001b[0m \u001b[0mNotImplemented\u001b[0m\u001b[1;33m\u001b[0m\u001b[1;33m\u001b[0m\u001b[0m\n\u001b[1;32m---> 37\u001b[1;33m \u001b[1;33m\u001b[0m\u001b[0m\n\u001b[0m\u001b[0;32m     38\u001b[0m     \u001b[1;33m@\u001b[0m\u001b[0munpack_zerodim_and_defer\u001b[0m\u001b[1;33m(\u001b[0m\u001b[1;34m\"__eq__\"\u001b[0m\u001b[1;33m)\u001b[0m\u001b[1;33m\u001b[0m\u001b[1;33m\u001b[0m\u001b[0m\n\u001b[0;32m     39\u001b[0m     \u001b[1;32mdef\u001b[0m \u001b[0m__eq__\u001b[0m\u001b[1;33m(\u001b[0m\u001b[0mself\u001b[0m\u001b[1;33m,\u001b[0m \u001b[0mother\u001b[0m\u001b[1;33m)\u001b[0m\u001b[1;33m:\u001b[0m\u001b[1;33m\u001b[0m\u001b[1;33m\u001b[0m\u001b[0m\n",
      "\u001b[1;32m~\\anaconda3\\lib\\site-packages\\pandas\\core\\series.py\u001b[0m in \u001b[0;36m_cmp_method\u001b[1;34m(self, other, op)\u001b[0m\n\u001b[0;32m   4976\u001b[0m         \u001b[0mself\u001b[0m\u001b[1;33m,\u001b[0m\u001b[1;33m\u001b[0m\u001b[1;33m\u001b[0m\u001b[0m\n\u001b[0;32m   4977\u001b[0m         \u001b[0mlabels\u001b[0m\u001b[1;33m:\u001b[0m \u001b[0mIndexLabel\u001b[0m \u001b[1;33m=\u001b[0m \u001b[1;33m...\u001b[0m\u001b[1;33m,\u001b[0m\u001b[1;33m\u001b[0m\u001b[1;33m\u001b[0m\u001b[0m\n\u001b[1;32m-> 4978\u001b[1;33m         \u001b[1;33m*\u001b[0m\u001b[1;33m,\u001b[0m\u001b[1;33m\u001b[0m\u001b[1;33m\u001b[0m\u001b[0m\n\u001b[0m\u001b[0;32m   4979\u001b[0m         \u001b[0maxis\u001b[0m\u001b[1;33m:\u001b[0m \u001b[0mAxis\u001b[0m \u001b[1;33m=\u001b[0m \u001b[1;33m...\u001b[0m\u001b[1;33m,\u001b[0m\u001b[1;33m\u001b[0m\u001b[1;33m\u001b[0m\u001b[0m\n\u001b[0;32m   4980\u001b[0m         \u001b[0mindex\u001b[0m\u001b[1;33m:\u001b[0m \u001b[0mIndexLabel\u001b[0m \u001b[1;33m=\u001b[0m \u001b[1;33m...\u001b[0m\u001b[1;33m,\u001b[0m\u001b[1;33m\u001b[0m\u001b[1;33m\u001b[0m\u001b[0m\n",
      "\u001b[1;32m~\\anaconda3\\lib\\site-packages\\pandas\\core\\ops\\array_ops.py\u001b[0m in \u001b[0;36mcomparison_op\u001b[1;34m(left, right, op)\u001b[0m\n\u001b[0;32m    248\u001b[0m         \u001b[0mCannot\u001b[0m \u001b[0mbe\u001b[0m \u001b[0ma\u001b[0m \u001b[0mDataFrame\u001b[0m\u001b[1;33m,\u001b[0m \u001b[0mSeries\u001b[0m\u001b[1;33m,\u001b[0m \u001b[1;32mor\u001b[0m \u001b[0mIndex\u001b[0m\u001b[1;33m.\u001b[0m\u001b[1;33m\u001b[0m\u001b[1;33m\u001b[0m\u001b[0m\n\u001b[0;32m    249\u001b[0m     \u001b[0mop\u001b[0m \u001b[1;33m:\u001b[0m \u001b[1;33m{\u001b[0m\u001b[0moperator\u001b[0m\u001b[1;33m.\u001b[0m\u001b[0meq\u001b[0m\u001b[1;33m,\u001b[0m \u001b[0moperator\u001b[0m\u001b[1;33m.\u001b[0m\u001b[0mne\u001b[0m\u001b[1;33m,\u001b[0m \u001b[0moperator\u001b[0m\u001b[1;33m.\u001b[0m\u001b[0mgt\u001b[0m\u001b[1;33m,\u001b[0m \u001b[0moperator\u001b[0m\u001b[1;33m.\u001b[0m\u001b[0mge\u001b[0m\u001b[1;33m,\u001b[0m \u001b[0moperator\u001b[0m\u001b[1;33m.\u001b[0m\u001b[0mlt\u001b[0m\u001b[1;33m,\u001b[0m \u001b[0moperator\u001b[0m\u001b[1;33m.\u001b[0m\u001b[0mle\u001b[0m\u001b[1;33m}\u001b[0m\u001b[1;33m\u001b[0m\u001b[1;33m\u001b[0m\u001b[0m\n\u001b[1;32m--> 250\u001b[1;33m \u001b[1;33m\u001b[0m\u001b[0m\n\u001b[0m\u001b[0;32m    251\u001b[0m     \u001b[0mReturns\u001b[0m\u001b[1;33m\u001b[0m\u001b[1;33m\u001b[0m\u001b[0m\n\u001b[0;32m    252\u001b[0m     \u001b[1;33m-\u001b[0m\u001b[1;33m-\u001b[0m\u001b[1;33m-\u001b[0m\u001b[1;33m-\u001b[0m\u001b[1;33m-\u001b[0m\u001b[1;33m-\u001b[0m\u001b[1;33m-\u001b[0m\u001b[1;33m\u001b[0m\u001b[1;33m\u001b[0m\u001b[0m\n",
      "\u001b[1;32m~\\anaconda3\\lib\\site-packages\\pandas\\core\\ops\\array_ops.py\u001b[0m in \u001b[0;36m_na_arithmetic_op\u001b[1;34m(left, right, op, is_cmp)\u001b[0m\n\u001b[0;32m    137\u001b[0m     \u001b[0mnp\u001b[0m\u001b[1;33m.\u001b[0m\u001b[0mputmask\u001b[0m\u001b[1;33m(\u001b[0m\u001b[0mresult\u001b[0m\u001b[1;33m,\u001b[0m \u001b[1;33m~\u001b[0m\u001b[0mmask\u001b[0m\u001b[1;33m,\u001b[0m \u001b[0mnp\u001b[0m\u001b[1;33m.\u001b[0m\u001b[0mnan\u001b[0m\u001b[1;33m)\u001b[0m\u001b[1;33m\u001b[0m\u001b[1;33m\u001b[0m\u001b[0m\n\u001b[0;32m    138\u001b[0m     \u001b[0mresult\u001b[0m \u001b[1;33m=\u001b[0m \u001b[0mresult\u001b[0m\u001b[1;33m.\u001b[0m\u001b[0mreshape\u001b[0m\u001b[1;33m(\u001b[0m\u001b[0mx\u001b[0m\u001b[1;33m.\u001b[0m\u001b[0mshape\u001b[0m\u001b[1;33m)\u001b[0m  \u001b[1;31m# 2D compat\u001b[0m\u001b[1;33m\u001b[0m\u001b[1;33m\u001b[0m\u001b[0m\n\u001b[1;32m--> 139\u001b[1;33m     \u001b[1;32mreturn\u001b[0m \u001b[0mresult\u001b[0m\u001b[1;33m\u001b[0m\u001b[1;33m\u001b[0m\u001b[0m\n\u001b[0m\u001b[0;32m    140\u001b[0m \u001b[1;33m\u001b[0m\u001b[0m\n\u001b[0;32m    141\u001b[0m \u001b[1;33m\u001b[0m\u001b[0m\n",
      "\u001b[1;32m~\\anaconda3\\lib\\site-packages\\pandas\\core\\computation\\expressions.py\u001b[0m in \u001b[0;36m<module>\u001b[1;34m\u001b[0m\n\u001b[0;32m     16\u001b[0m \u001b[1;33m\u001b[0m\u001b[0m\n\u001b[0;32m     17\u001b[0m \u001b[1;32mfrom\u001b[0m \u001b[0mpandas\u001b[0m\u001b[1;33m.\u001b[0m\u001b[0m_typing\u001b[0m \u001b[1;32mimport\u001b[0m \u001b[0mFuncType\u001b[0m\u001b[1;33m\u001b[0m\u001b[1;33m\u001b[0m\u001b[0m\n\u001b[1;32m---> 18\u001b[1;33m \u001b[1;32mfrom\u001b[0m \u001b[0mpandas\u001b[0m\u001b[1;33m.\u001b[0m\u001b[0mutil\u001b[0m\u001b[1;33m.\u001b[0m\u001b[0m_exceptions\u001b[0m \u001b[1;32mimport\u001b[0m \u001b[0mfind_stack_level\u001b[0m\u001b[1;33m\u001b[0m\u001b[1;33m\u001b[0m\u001b[0m\n\u001b[0m\u001b[0;32m     19\u001b[0m \u001b[1;33m\u001b[0m\u001b[0m\n\u001b[0;32m     20\u001b[0m \u001b[1;32mfrom\u001b[0m \u001b[0mpandas\u001b[0m\u001b[1;33m.\u001b[0m\u001b[0mcore\u001b[0m\u001b[1;33m.\u001b[0m\u001b[0mcomputation\u001b[0m\u001b[1;33m.\u001b[0m\u001b[0mcheck\u001b[0m \u001b[1;32mimport\u001b[0m \u001b[0mNUMEXPR_INSTALLED\u001b[0m\u001b[1;33m\u001b[0m\u001b[1;33m\u001b[0m\u001b[0m\n",
      "\u001b[1;31mImportError\u001b[0m: cannot import name 'find_stack_level' from 'pandas.util._exceptions' (C:\\Users\\dell\\anaconda3\\lib\\site-packages\\pandas\\util\\_exceptions.py)"
     ]
    }
   ],
   "source": [
    "lda_vis = gensimvis.prepare(lda_model, corpus, dictionary, n_jobs=1) # 备注：上述语句如果在数据量比较大的时候跑不出来，可以选择加一个n_jobs=1的参数，降低计算量，避免报错\n",
    "# 显示可视化界面\n",
    "pyLDAvis.display(lda_vis)"
   ]
  },
  {
   "cell_type": "code",
   "execution_count": null,
   "id": "e22d8413",
   "metadata": {},
   "outputs": [],
   "source": [
    "# 导出可视化结果到html\n",
    "# pyLDAvis.save_html(lda_vis, 'lda_visualization.html')"
   ]
  },
  {
   "cell_type": "markdown",
   "id": "22b4a44a",
   "metadata": {},
   "source": [
    "# 个人数据"
   ]
  },
  {
   "cell_type": "code",
   "execution_count": 5,
   "id": "bce9f454",
   "metadata": {
    "ExecuteTime": {
     "end_time": "2024-05-07T02:22:50.425043Z",
     "start_time": "2024-05-07T02:22:50.415885Z"
    }
   },
   "outputs": [
    {
     "ename": "NameError",
     "evalue": "name 'pd' is not defined",
     "output_type": "error",
     "traceback": [
      "\u001b[1;31m---------------------------------------------------------------------------\u001b[0m",
      "\u001b[1;31mNameError\u001b[0m                                 Traceback (most recent call last)",
      "\u001b[1;32m<ipython-input-5-5eb60f474ccf>\u001b[0m in \u001b[0;36m<module>\u001b[1;34m\u001b[0m\n\u001b[1;32m----> 1\u001b[1;33m \u001b[0mdf\u001b[0m \u001b[1;33m=\u001b[0m \u001b[0mpd\u001b[0m\u001b[1;33m.\u001b[0m\u001b[0mread_csv\u001b[0m\u001b[1;33m(\u001b[0m\u001b[1;34mr'搜狗全网新闻数据_utf-8_demo.csv'\u001b[0m\u001b[1;33m,\u001b[0m\u001b[0mindex_col\u001b[0m\u001b[1;33m=\u001b[0m\u001b[1;36m0\u001b[0m\u001b[1;33m,\u001b[0m\u001b[0mencoding\u001b[0m\u001b[1;33m=\u001b[0m\u001b[1;34m'GBK'\u001b[0m\u001b[1;33m)\u001b[0m\u001b[1;33m\u001b[0m\u001b[1;33m\u001b[0m\u001b[0m\n\u001b[0m",
      "\u001b[1;31mNameError\u001b[0m: name 'pd' is not defined"
     ]
    }
   ],
   "source": [
    "df = pd.read_csv(r'搜狗全网新闻数据_utf-8_demo.csv',index_col=0,encoding='GBK')"
   ]
  },
  {
   "cell_type": "code",
   "execution_count": 2,
   "id": "5e59f6ab",
   "metadata": {
    "ExecuteTime": {
     "end_time": "2024-05-07T02:22:38.882458Z",
     "start_time": "2024-05-07T02:22:38.871979Z"
    }
   },
   "outputs": [
    {
     "ename": "NameError",
     "evalue": "name 'df' is not defined",
     "output_type": "error",
     "traceback": [
      "\u001b[1;31m---------------------------------------------------------------------------\u001b[0m",
      "\u001b[1;31mNameError\u001b[0m                                 Traceback (most recent call last)",
      "\u001b[1;32m<ipython-input-2-c42a15b2c7cf>\u001b[0m in \u001b[0;36m<module>\u001b[1;34m\u001b[0m\n\u001b[1;32m----> 1\u001b[1;33m \u001b[0mdf\u001b[0m\u001b[1;33m.\u001b[0m\u001b[0mhead\u001b[0m\u001b[1;33m(\u001b[0m\u001b[1;33m)\u001b[0m\u001b[1;33m\u001b[0m\u001b[1;33m\u001b[0m\u001b[0m\n\u001b[0m",
      "\u001b[1;31mNameError\u001b[0m: name 'df' is not defined"
     ]
    }
   ],
   "source": [
    "df.head()"
   ]
  },
  {
   "cell_type": "code",
   "execution_count": 3,
   "id": "8adda1b7",
   "metadata": {
    "ExecuteTime": {
     "end_time": "2024-05-07T02:22:41.012041Z",
     "start_time": "2024-05-07T02:22:41.003735Z"
    }
   },
   "outputs": [
    {
     "ename": "NameError",
     "evalue": "name 'df' is not defined",
     "output_type": "error",
     "traceback": [
      "\u001b[1;31m---------------------------------------------------------------------------\u001b[0m",
      "\u001b[1;31mNameError\u001b[0m                                 Traceback (most recent call last)",
      "\u001b[1;32m<ipython-input-3-deb35d42206b>\u001b[0m in \u001b[0;36m<module>\u001b[1;34m\u001b[0m\n\u001b[0;32m      2\u001b[0m     \u001b[0mnonums\u001b[0m \u001b[1;33m=\u001b[0m \u001b[0mre\u001b[0m\u001b[1;33m.\u001b[0m\u001b[0msub\u001b[0m\u001b[1;33m(\u001b[0m\u001b[1;34m'[^\\u4e00-\\u9fa5]+'\u001b[0m\u001b[1;33m,\u001b[0m \u001b[1;34m''\u001b[0m\u001b[1;33m,\u001b[0m \u001b[0mtext\u001b[0m\u001b[1;33m)\u001b[0m\u001b[1;33m\u001b[0m\u001b[1;33m\u001b[0m\u001b[0m\n\u001b[0;32m      3\u001b[0m     \u001b[1;32mreturn\u001b[0m \u001b[0mnonums\u001b[0m\u001b[1;33m\u001b[0m\u001b[1;33m\u001b[0m\u001b[0m\n\u001b[1;32m----> 4\u001b[1;33m \u001b[0mtest\u001b[0m \u001b[1;33m=\u001b[0m \u001b[0mdf\u001b[0m\u001b[1;33m[\u001b[0m\u001b[1;34m'content'\u001b[0m\u001b[1;33m]\u001b[0m\u001b[1;33m[\u001b[0m\u001b[1;36m0\u001b[0m\u001b[1;33m]\u001b[0m\u001b[1;33m\u001b[0m\u001b[1;33m\u001b[0m\u001b[0m\n\u001b[0m\u001b[0;32m      5\u001b[0m \u001b[0mremove_nums\u001b[0m\u001b[1;33m(\u001b[0m\u001b[0mtest\u001b[0m\u001b[1;33m)\u001b[0m\u001b[1;33m[\u001b[0m\u001b[1;33m:\u001b[0m\u001b[1;36m100\u001b[0m\u001b[1;33m]\u001b[0m\u001b[1;33m\u001b[0m\u001b[1;33m\u001b[0m\u001b[0m\n",
      "\u001b[1;31mNameError\u001b[0m: name 'df' is not defined"
     ]
    }
   ],
   "source": [
    "def remove_nums(text):\n",
    "    nonums = re.sub('[^\\u4e00-\\u9fa5]+', '', text)\n",
    "    return nonums\n",
    "test = df['content'][0]\n",
    "remove_nums(test)[:100]"
   ]
  },
  {
   "cell_type": "code",
   "execution_count": 23,
   "id": "15275675",
   "metadata": {
    "ExecuteTime": {
     "end_time": "2024-05-06T10:02:12.808236Z",
     "start_time": "2024-05-06T10:02:12.615749Z"
    }
   },
   "outputs": [
    {
     "name": "stderr",
     "output_type": "stream",
     "text": [
      "C:\\Users\\dell\\anaconda3\\lib\\site-packages\\ipykernel\\ipkernel.py:287: DeprecationWarning: `should_run_async` will not call `transform_cell` automatically in the future. Please pass the result to `transformed_cell` argument and any exception that happen during thetransform in `preprocessing_exc_tuple` in IPython 7.17 and above.\n",
      "  and should_run_async(code)\n"
     ]
    },
    {
     "data": {
      "text/plain": [
       "'中广网 唐山 ６ 月 １ ２ 日 消息 （ 记者 汤一亮 \\u3000 庄胜春 ） 据 中国 之声 《 新闻 晚 高峰 》 报道 ， 今天 （ １ ２ 日 ） 上午 ， 公安机关 ２ ０ １ ２ 年缉枪 制爆 专项 行动 “ 统一 销毁 非法 枪爆 物品 活动 ” 在 河北 唐山 正式 启动 ， １ ０ 万余只 非法 枪支 、 ２ ５ ０ 余吨 炸药 在 全国 １ ５ ０ 个 城市 被 统一 销毁 。 ； 泼 鳎 合衷 谖 倚布 ， 全国 缉枪 制爆 统一 销毁 行动 开始 ！ Ｋ 孀 殴安 部副 部长 黄明 一声令下 ， 大量 仿制 式 枪 以及 猎枪 、 火药枪 、 气枪 在 河北 唐山 钢铁厂 被 投入 炼钢炉 。 与此同时 ， 在 全国 各 省区市 １ ５ ０ 个 城市 ， 破案 追缴 和 群众 主动 上缴 的 １ ０ 万余支 非法 枪支 被 集中 销毁 ， 在 全国 各 指定 场所 ， ２ ５ ０ 余吨 炸药 被 分别 销毁 。 公安部 治安 局局长 刘 绍武 介绍 ， 这次 销毁 的 非法 枪支 来源于 三个 方面 。 Ａ 跎 芪 洌 捍 蚧 髌 瓢 赴括 涉黑 、 涉恶 的 团伙 犯罪 、 毒品 犯罪 ， 还有 从 境外 非法 走私 的 枪支 爆炸物 。 Ｔ 谙毁 现场 ， 记者 看到 了 被 追缴 和 上缴 的 各式各样 的 枪支 。 Ａ 跎 芪 洌 阂 舶括 制式 枪 ， 有的是 军用 枪 、 仿制 的 制式 抢 ， 还有 猎枪 、 私制 的 火药枪 等等 。 按照 我国 的 枪支 管理法 ， 这些 都 是 严厉 禁止 个人 非法 持有 的 。 中国 是 世界 上 持枪 犯罪 的 犯罪率 最低 的 国家 之一 。 Ｖ 忻懒手 破获 特大 跨国 走私 武器弹药 案 ＝ 日 ， 中 美 执法 部门 联手 成功 破获 特大 跨国 走私 武器弹药 案 ， 在 中国 抓获 犯罪 嫌疑人 ２ ３ 名 ， 缴获 各类 枪支 ９ ３ 支 、 子弹 ５ 万余 发及 大量 枪支 配件 。 在 美国 抓获 犯罪 嫌疑人 ３ 名 ， 缴获 各类 枪支 １ ２ 支 。 这是 公安部 与 美国移民 海关 执法局 通过 联合 调查 方式 侦破 重大 跨国 案件 的 又 一 成功 案例 。 ＃ 玻埃保 蹦 辏 冈 拢 玻 等 眨 上海浦东国际机场 海关 在 对 美国纽约 发 往 浙江 台州 ， 申报 品名 为 扩音器 （ 音箱 ） 的 快件 进行 查验 时 ， 发现 货物 内 藏有 手枪 ９ 支 ， 枪支 配件 ９ 件 ， 长枪 部件 ７ 件 。 经 检验 ， 这些 都 是 具有 杀伤力 的 制式 枪支 及其 配件 。 这 引起 了 公安部 和 海关总署 的 高度重视 。 ９ 安部 刑侦局 局长 刘安 成 ： 因为 是从 海关 进口 的 货物 中 检查 出来 夹带 ， 说明 来源 地是 境外 ， 或是 说 国外 ， 这 应该 是 一起 特大 跨国 走私 武器弹药 的 案件 。 Ｉ 虾 Ｊ 泄安局 和 上海海关 缉私局 成立 联合 专案组 ， 迅速开展 案件 侦查 。 专案组 于 ８ 月 ２ ６ 日 在 浙江 台州 Ｕ Ｐ Ｓ 取件 处 将 犯罪 嫌疑人 王挺 （ 男 ， ３ ２ 岁 ， 台州市 人 ） 抓获 。 王挺 交代 ， 他 通过 一 境外 网站 上 认识 了 上家 林志富 ， ２ ０ ０ ９ 年 １ １ 月 以来 ， 林志富 长期 居住 美国 ， 他 通过 互联网 组建 了 一个 走私 、 贩卖 、 私藏枪支 弹药 的 群体 ， 通过 网络 在 国内 寻找 枪支弹药 买家 ， 并 通过 美国 Ｕ Ｐ Ｓ 联邦 速递 公司 将 枪支弹药 从 纽约 快 递给 多名 类似 王挺 的 中间人 ， 再 通过 中间人 发送给 国内 买家 。 ４ 税钢校 犯罪分子 依托 虚拟 网络 进行 犯罪 交易 ， 隐蔽性 强 ， 涉案人员 使用 的 身份 、 地址 、 联系方式 都 是 虚构 的 ， 侦查 难度很大 。 刘安 成 说 ， 此案 体现 了 是 新型 犯罪 ， 特别 是 现代 犯罪 的 新 特点 。 Ａ 醢 渤桑核 不受 距离 的 限制 、 经常 是 跨国 跨境 ， 甚至 是 跨 一个 、 数个 、 甚至 数十个 国家 。 这种 犯罪 手法 的 改变 和 新型 犯罪 的 特点 ， 要求 我们 各国 警方 充分 合作 。 Ｗ 髡 撸 禾 酪 涣 痢 ∽ 胜春'"
      ]
     },
     "execution_count": 23,
     "metadata": {},
     "output_type": "execute_result"
    }
   ],
   "source": [
    "# 加载中文停用词词典，可个性化设置\n",
    "# stopwords = open('stopwords.txt', encoding = 'utf-8').read()\n",
    "\n",
    "def clean_text(text):\n",
    "    words = jieba.lcut(text)\n",
    "    # words = [w for w in words if w not in stopwords and w!='[' and w!=']']\n",
    "    return ' '.join(words)\n",
    "\n",
    "test = df['content'][0]\n",
    "clean_text(test)"
   ]
  },
  {
   "cell_type": "code",
   "execution_count": 25,
   "id": "a5e9c083",
   "metadata": {
    "ExecuteTime": {
     "end_time": "2024-05-07T02:00:15.476242Z",
     "start_time": "2024-05-07T02:00:14.751612Z"
    }
   },
   "outputs": [
    {
     "name": "stderr",
     "output_type": "stream",
     "text": [
      "C:\\Users\\dell\\anaconda3\\lib\\site-packages\\ipykernel\\ipkernel.py:287: DeprecationWarning: `should_run_async` will not call `transform_cell` automatically in the future. Please pass the result to `transformed_cell` argument and any exception that happen during thetransform in `preprocessing_exc_tuple` in IPython 7.17 and above.\n",
      "  and should_run_async(code)\n"
     ]
    },
    {
     "data": {
      "text/html": [
       "<div>\n",
       "<style scoped>\n",
       "    .dataframe tbody tr th:only-of-type {\n",
       "        vertical-align: middle;\n",
       "    }\n",
       "\n",
       "    .dataframe tbody tr th {\n",
       "        vertical-align: top;\n",
       "    }\n",
       "\n",
       "    .dataframe thead th {\n",
       "        text-align: right;\n",
       "    }\n",
       "</style>\n",
       "<table border=\"1\" class=\"dataframe\">\n",
       "  <thead>\n",
       "    <tr style=\"text-align: right;\">\n",
       "      <th></th>\n",
       "      <th>contenttitle</th>\n",
       "      <th>content</th>\n",
       "      <th>微博内容分词</th>\n",
       "    </tr>\n",
       "    <tr>\n",
       "      <th>url</th>\n",
       "      <th></th>\n",
       "      <th></th>\n",
       "      <th></th>\n",
       "    </tr>\n",
       "  </thead>\n",
       "  <tbody>\n",
       "    <tr>\n",
       "      <th>http://news.sohu.com/20120612/n345428229.shtml</th>\n",
       "      <td>公安机关销毁１０余万非法枪支　跨国武器走私渐起</td>\n",
       "      <td>中广网唐山６月１２日消息（记者汤一亮　庄胜春）据中国之声《新闻晚高峰》报道，今天（１２日）上...</td>\n",
       "      <td>[中广网, 唐山, 月, 日, 消息, 记者, 汤一亮, 庄胜春据, 中国, 之声, 新闻,...</td>\n",
       "    </tr>\n",
       "    <tr>\n",
       "      <th>http://news.sohu.com/20120607/n344998325.shtml</th>\n",
       "      <td>张绍刚发道歉信网友不认可：他的问题是俯视他人（图）</td>\n",
       "      <td>天津卫视求职节目《非你莫属》“晕倒门”事件余波未了，主持人张绍刚前日通过《非你莫属》节目组发...</td>\n",
       "      <td>[天津, 卫视, 求职, 节目, 非你莫属, 晕倒, 门, 事件, 余波, 未了, 主持人,...</td>\n",
       "    </tr>\n",
       "    <tr>\n",
       "      <th>http://news.sohu.com/20120604/n344745879.shtml</th>\n",
       "      <td>＃（关注夏收）（３）夫妻“麦客”忙麦收</td>\n",
       "      <td>临沂（山东），２０１２年６月４日　夫妻“麦客”忙麦收　６月４日，在山东省临沂市郯城县郯城街道...</td>\n",
       "      <td>[临沂, 山东, 年月日, 夫妻, 麦客, 忙, 麦收, 月, 日, 在, 山东省, 临沂市...</td>\n",
       "    </tr>\n",
       "    <tr>\n",
       "      <th>http://news.sohu.com/20120613/n345535702.shtml</th>\n",
       "      <td>欧洲杯大战在即　荷兰葡萄牙面临淘汰将背水一战</td>\n",
       "      <td>中广网北京６月１３日消息（记者王宇）据中国之声《新闻晚高峰》报道，明天凌晨两场欧洲杯的精彩比...</td>\n",
       "      <td>[中广网, 北京, 月, 日, 消息, 记者, 王宇据, 中国, 之声, 新闻, 晚, 高峰...</td>\n",
       "    </tr>\n",
       "    <tr>\n",
       "      <th>http://news.sohu.com/20120601/n344598651.shtml</th>\n",
       "      <td>扎克伯格携妻罗马当街吃３０元麦当劳午餐（组图）</td>\n",
       "      <td>环球网记者李亮报道，正在意大利度蜜月的“脸谱”创始人扎克伯格与他华裔妻子的一举一动都处于媒体...</td>\n",
       "      <td>[环球网, 记者, 李亮, 报道, 正在, 意大利, 度蜜月, 的, 脸谱, 创始人, 扎克...</td>\n",
       "    </tr>\n",
       "    <tr>\n",
       "      <th>...</th>\n",
       "      <td>...</td>\n",
       "      <td>...</td>\n",
       "      <td>...</td>\n",
       "    </tr>\n",
       "    <tr>\n",
       "      <th>http://news.cn.yahoo.com/ypen/20120531/1082314.html</th>\n",
       "      <td>联合国秘书长敦促叙利亚政府履行安南和平计划</td>\n",
       "      <td>中新网５月３１日电　据外电报道，联合国秘书长潘基文３１日敦促叙利亚政府尊重承诺，履行叙危机联...</td>\n",
       "      <td>[中新网, 月, 日电, 据, 外电报道, 联合国, 秘书长, 潘基文, 日, 敦促, 叙利...</td>\n",
       "    </tr>\n",
       "    <tr>\n",
       "      <th>http://news.cn.yahoo.com/ypen/20120531/1082438.html?f=E61_24_15</th>\n",
       "      <td>武汉一环卫工人因“占道”遭围殴　被泼滚烫米粉</td>\n",
       "      <td>荆楚网消息（记者张扬　通讯员殷莉红、刘永慧、刘妮）５月３１日，３名男子因嫌环卫车占道，竟将一...</td>\n",
       "      <td>[荆楚网, 消息, 记者, 张扬, 通讯员, 殷莉红, 刘永慧, 刘妮, 月, 日名, 男子...</td>\n",
       "    </tr>\n",
       "    <tr>\n",
       "      <th>http://news.cn.yahoo.com/newspic/news/23261/</th>\n",
       "      <td>女大学生夜行遇劫　遭割喉身亡（</td>\n",
       "      <td>nan</td>\n",
       "      <td>[]</td>\n",
       "    </tr>\n",
       "    <tr>\n",
       "      <th>http://news.cn.yahoo.com/newspic/news/17917/3/</th>\n",
       "      <td>俄总统竞选“梅普”或许换位</td>\n",
       "      <td>９月２４日，俄罗斯总统梅德韦杰夫在“统一俄罗斯党”代表大会上提议，由现任总理普京参加２０１２...</td>\n",
       "      <td>[月, 日, 俄罗斯, 总统, 梅德韦, 杰夫, 在, 统一, 俄罗斯, 党代表大会, 上,...</td>\n",
       "    </tr>\n",
       "    <tr>\n",
       "      <th>http://news.cn.yahoo.com/newspic/news/24888/</th>\n",
       "      <td>朝鲜员工迁新居　金正恩送彩电（</td>\n",
       "      <td>nan</td>\n",
       "      <td>[]</td>\n",
       "    </tr>\n",
       "  </tbody>\n",
       "</table>\n",
       "<p>99 rows × 3 columns</p>\n",
       "</div>"
      ],
      "text/plain": [
       "                                                                 contenttitle  \\\n",
       "url                                                                             \n",
       "http://news.sohu.com/20120612/n345428229.shtml        公安机关销毁１０余万非法枪支　跨国武器走私渐起   \n",
       "http://news.sohu.com/20120607/n344998325.shtml      张绍刚发道歉信网友不认可：他的问题是俯视他人（图）   \n",
       "http://news.sohu.com/20120604/n344745879.shtml            ＃（关注夏收）（３）夫妻“麦客”忙麦收   \n",
       "http://news.sohu.com/20120613/n345535702.shtml         欧洲杯大战在即　荷兰葡萄牙面临淘汰将背水一战   \n",
       "http://news.sohu.com/20120601/n344598651.shtml        扎克伯格携妻罗马当街吃３０元麦当劳午餐（组图）   \n",
       "...                                                                       ...   \n",
       "http://news.cn.yahoo.com/ypen/20120531/1082314....      联合国秘书长敦促叙利亚政府履行安南和平计划   \n",
       "http://news.cn.yahoo.com/ypen/20120531/1082438....     武汉一环卫工人因“占道”遭围殴　被泼滚烫米粉   \n",
       "http://news.cn.yahoo.com/newspic/news/23261/                  女大学生夜行遇劫　遭割喉身亡（   \n",
       "http://news.cn.yahoo.com/newspic/news/17917/3/                  俄总统竞选“梅普”或许换位   \n",
       "http://news.cn.yahoo.com/newspic/news/24888/                  朝鲜员工迁新居　金正恩送彩电（   \n",
       "\n",
       "                                                                                              content  \\\n",
       "url                                                                                                     \n",
       "http://news.sohu.com/20120612/n345428229.shtml      中广网唐山６月１２日消息（记者汤一亮　庄胜春）据中国之声《新闻晚高峰》报道，今天（１２日）上...   \n",
       "http://news.sohu.com/20120607/n344998325.shtml      天津卫视求职节目《非你莫属》“晕倒门”事件余波未了，主持人张绍刚前日通过《非你莫属》节目组发...   \n",
       "http://news.sohu.com/20120604/n344745879.shtml      临沂（山东），２０１２年６月４日　夫妻“麦客”忙麦收　６月４日，在山东省临沂市郯城县郯城街道...   \n",
       "http://news.sohu.com/20120613/n345535702.shtml      中广网北京６月１３日消息（记者王宇）据中国之声《新闻晚高峰》报道，明天凌晨两场欧洲杯的精彩比...   \n",
       "http://news.sohu.com/20120601/n344598651.shtml      环球网记者李亮报道，正在意大利度蜜月的“脸谱”创始人扎克伯格与他华裔妻子的一举一动都处于媒体...   \n",
       "...                                                                                               ...   \n",
       "http://news.cn.yahoo.com/ypen/20120531/1082314....  中新网５月３１日电　据外电报道，联合国秘书长潘基文３１日敦促叙利亚政府尊重承诺，履行叙危机联...   \n",
       "http://news.cn.yahoo.com/ypen/20120531/1082438....  荆楚网消息（记者张扬　通讯员殷莉红、刘永慧、刘妮）５月３１日，３名男子因嫌环卫车占道，竟将一...   \n",
       "http://news.cn.yahoo.com/newspic/news/23261/                                                      nan   \n",
       "http://news.cn.yahoo.com/newspic/news/17917/3/      ９月２４日，俄罗斯总统梅德韦杰夫在“统一俄罗斯党”代表大会上提议，由现任总理普京参加２０１２...   \n",
       "http://news.cn.yahoo.com/newspic/news/24888/                                                      nan   \n",
       "\n",
       "                                                                                               微博内容分词  \n",
       "url                                                                                                    \n",
       "http://news.sohu.com/20120612/n345428229.shtml      [中广网, 唐山, 月, 日, 消息, 记者, 汤一亮, 庄胜春据, 中国, 之声, 新闻,...  \n",
       "http://news.sohu.com/20120607/n344998325.shtml      [天津, 卫视, 求职, 节目, 非你莫属, 晕倒, 门, 事件, 余波, 未了, 主持人,...  \n",
       "http://news.sohu.com/20120604/n344745879.shtml      [临沂, 山东, 年月日, 夫妻, 麦客, 忙, 麦收, 月, 日, 在, 山东省, 临沂市...  \n",
       "http://news.sohu.com/20120613/n345535702.shtml      [中广网, 北京, 月, 日, 消息, 记者, 王宇据, 中国, 之声, 新闻, 晚, 高峰...  \n",
       "http://news.sohu.com/20120601/n344598651.shtml      [环球网, 记者, 李亮, 报道, 正在, 意大利, 度蜜月, 的, 脸谱, 创始人, 扎克...  \n",
       "...                                                                                               ...  \n",
       "http://news.cn.yahoo.com/ypen/20120531/1082314....  [中新网, 月, 日电, 据, 外电报道, 联合国, 秘书长, 潘基文, 日, 敦促, 叙利...  \n",
       "http://news.cn.yahoo.com/ypen/20120531/1082438....  [荆楚网, 消息, 记者, 张扬, 通讯员, 殷莉红, 刘永慧, 刘妮, 月, 日名, 男子...  \n",
       "http://news.cn.yahoo.com/newspic/news/23261/                                                       []  \n",
       "http://news.cn.yahoo.com/newspic/news/17917/3/      [月, 日, 俄罗斯, 总统, 梅德韦, 杰夫, 在, 统一, 俄罗斯, 党代表大会, 上,...  \n",
       "http://news.cn.yahoo.com/newspic/news/24888/                                                       []  \n",
       "\n",
       "[99 rows x 3 columns]"
      ]
     },
     "execution_count": 25,
     "metadata": {},
     "output_type": "execute_result"
    }
   ],
   "source": [
    "df['content'] = df['content'].astype(str)\n",
    "df['微博内容分词'] = df['content'].apply(remove_nums)\n",
    "df['微博内容分词'] = df['微博内容分词'].apply(clean_text)\n",
    "df['微博内容分词'] = df['微博内容分词'].apply(lambda x: x.split())\n",
    "df"
   ]
  },
  {
   "cell_type": "code",
   "execution_count": 26,
   "id": "5aef48a8",
   "metadata": {
    "ExecuteTime": {
     "end_time": "2024-05-07T02:01:34.118342Z",
     "start_time": "2024-05-07T02:01:34.005205Z"
    }
   },
   "outputs": [
    {
     "name": "stderr",
     "output_type": "stream",
     "text": [
      "C:\\Users\\dell\\anaconda3\\lib\\site-packages\\ipykernel\\ipkernel.py:287: DeprecationWarning: `should_run_async` will not call `transform_cell` automatically in the future. Please pass the result to `transformed_cell` argument and any exception that happen during thetransform in `preprocessing_exc_tuple` in IPython 7.17 and above.\n",
      "  and should_run_async(code)\n"
     ]
    }
   ],
   "source": [
    "dictionary = corpora.Dictionary(df['微博内容分词'])     # 根据分词结果创建字典\n",
    "corpus = [dictionary.doc2bow(text) for text in df['微博内容分词']]     # 根据分词结果创建语料库"
   ]
  },
  {
   "cell_type": "code",
   "execution_count": 27,
   "id": "42b1343b",
   "metadata": {
    "ExecuteTime": {
     "end_time": "2024-05-07T02:01:44.076104Z",
     "start_time": "2024-05-07T02:01:42.471361Z"
    }
   },
   "outputs": [
    {
     "name": "stderr",
     "output_type": "stream",
     "text": [
      "C:\\Users\\dell\\anaconda3\\lib\\site-packages\\ipykernel\\ipkernel.py:287: DeprecationWarning: `should_run_async` will not call `transform_cell` automatically in the future. Please pass the result to `transformed_cell` argument and any exception that happen during thetransform in `preprocessing_exc_tuple` in IPython 7.17 and above.\n",
      "  and should_run_async(code)\n"
     ]
    }
   ],
   "source": [
    "# 训练LDA模型\n",
    "lda_model = models.LdaModel(corpus, num_topics=5, id2word=dictionary, passes=15)"
   ]
  },
  {
   "cell_type": "code",
   "execution_count": 28,
   "id": "05281950",
   "metadata": {
    "ExecuteTime": {
     "end_time": "2024-05-07T02:01:51.409149Z",
     "start_time": "2024-05-07T02:01:51.400634Z"
    }
   },
   "outputs": [
    {
     "name": "stdout",
     "output_type": "stream",
     "text": [
      "(0, '0.052*\"的\" + 0.009*\"和\" + 0.009*\"是\" + 0.009*\"在\" + 0.007*\"了\"')\n",
      "(1, '0.044*\"的\" + 0.009*\"在\" + 0.007*\"和\" + 0.007*\"了\" + 0.006*\"投资\"')\n",
      "(2, '0.024*\"的\" + 0.012*\"在\" + 0.009*\"了\" + 0.008*\"和\" + 0.005*\"枪支\"')\n",
      "(3, '0.030*\"的\" + 0.007*\"在\" + 0.006*\"是\" + 0.006*\"高尔夫球场\" + 0.005*\"和\"')\n",
      "(4, '0.017*\"的\" + 0.005*\"油价\" + 0.005*\"了\" + 0.005*\"在\" + 0.004*\"等\"')\n"
     ]
    },
    {
     "name": "stderr",
     "output_type": "stream",
     "text": [
      "C:\\Users\\dell\\anaconda3\\lib\\site-packages\\ipykernel\\ipkernel.py:287: DeprecationWarning: `should_run_async` will not call `transform_cell` automatically in the future. Please pass the result to `transformed_cell` argument and any exception that happen during thetransform in `preprocessing_exc_tuple` in IPython 7.17 and above.\n",
      "  and should_run_async(code)\n"
     ]
    }
   ],
   "source": [
    "# 查看主题\n",
    "topics = lda_model.print_topics(num_words=5)\n",
    "for topic in topics:\n",
    "    print(topic)"
   ]
  },
  {
   "cell_type": "code",
   "execution_count": 29,
   "id": "2c7dfacb",
   "metadata": {
    "ExecuteTime": {
     "end_time": "2024-05-07T02:02:03.393320Z",
     "start_time": "2024-05-07T02:02:03.373819Z"
    }
   },
   "outputs": [
    {
     "name": "stderr",
     "output_type": "stream",
     "text": [
      "C:\\Users\\dell\\anaconda3\\lib\\site-packages\\ipykernel\\ipkernel.py:287: DeprecationWarning: `should_run_async` will not call `transform_cell` automatically in the future. Please pass the result to `transformed_cell` argument and any exception that happen during thetransform in `preprocessing_exc_tuple` in IPython 7.17 and above.\n",
      "  and should_run_async(code)\n"
     ]
    },
    {
     "data": {
      "text/plain": [
       "['中广网',\n",
       " '唐山',\n",
       " '月',\n",
       " '日',\n",
       " '消息',\n",
       " '记者',\n",
       " '汤一亮',\n",
       " '庄胜春据',\n",
       " '中国',\n",
       " '之声',\n",
       " '新闻',\n",
       " '晚',\n",
       " '高峰',\n",
       " '报道',\n",
       " '今天',\n",
       " '日',\n",
       " '上午',\n",
       " '公安机关',\n",
       " '年缉枪',\n",
       " '制爆',\n",
       " '专项',\n",
       " '行动',\n",
       " '统一',\n",
       " '销毁',\n",
       " '非法',\n",
       " '枪爆',\n",
       " '物品',\n",
       " '活动',\n",
       " '在',\n",
       " '河北',\n",
       " '唐山',\n",
       " '正式',\n",
       " '启动',\n",
       " '万余只',\n",
       " '非法',\n",
       " '枪支',\n",
       " '余吨',\n",
       " '炸药',\n",
       " '在',\n",
       " '全国',\n",
       " '个',\n",
       " '城市',\n",
       " '被',\n",
       " '统一',\n",
       " '销毁',\n",
       " '泼',\n",
       " '鳎',\n",
       " '合衷',\n",
       " '谖',\n",
       " '倚布',\n",
       " '全国',\n",
       " '缉枪',\n",
       " '制爆',\n",
       " '统一',\n",
       " '销毁',\n",
       " '行动',\n",
       " '开始',\n",
       " '孀',\n",
       " '殴安',\n",
       " '部副',\n",
       " '部长',\n",
       " '黄明',\n",
       " '一声令下',\n",
       " '大量',\n",
       " '仿制',\n",
       " '式',\n",
       " '枪',\n",
       " '以及',\n",
       " '猎枪',\n",
       " '火药枪',\n",
       " '气枪',\n",
       " '在',\n",
       " '河北',\n",
       " '唐山',\n",
       " '钢铁厂',\n",
       " '被',\n",
       " '投入',\n",
       " '炼钢炉',\n",
       " '与此同时',\n",
       " '在',\n",
       " '全国',\n",
       " '各',\n",
       " '省区市',\n",
       " '个',\n",
       " '城市',\n",
       " '破案',\n",
       " '追缴',\n",
       " '和',\n",
       " '群众',\n",
       " '主动',\n",
       " '上缴',\n",
       " '的',\n",
       " '万余支',\n",
       " '非法',\n",
       " '枪支',\n",
       " '被',\n",
       " '集中',\n",
       " '销毁',\n",
       " '在',\n",
       " '全国',\n",
       " '各',\n",
       " '指定',\n",
       " '场所',\n",
       " '余吨',\n",
       " '炸药',\n",
       " '被',\n",
       " '分别',\n",
       " '销毁',\n",
       " '公安部',\n",
       " '治安',\n",
       " '局局长',\n",
       " '刘',\n",
       " '绍武',\n",
       " '介绍',\n",
       " '这次',\n",
       " '销毁',\n",
       " '的',\n",
       " '非法',\n",
       " '枪支',\n",
       " '来源于',\n",
       " '三个',\n",
       " '方面',\n",
       " '跎',\n",
       " '芪',\n",
       " '洌',\n",
       " '捍',\n",
       " '蚧',\n",
       " '髌',\n",
       " '瓢',\n",
       " '赴括',\n",
       " '涉黑',\n",
       " '涉恶',\n",
       " '的',\n",
       " '团伙',\n",
       " '犯罪',\n",
       " '毒品',\n",
       " '犯罪',\n",
       " '还有',\n",
       " '从',\n",
       " '境外',\n",
       " '非法',\n",
       " '走私',\n",
       " '的',\n",
       " '枪支',\n",
       " '爆炸物',\n",
       " '谙毁',\n",
       " '现场',\n",
       " '记者',\n",
       " '看到',\n",
       " '了',\n",
       " '被',\n",
       " '追缴',\n",
       " '和',\n",
       " '上缴',\n",
       " '的',\n",
       " '各式各样',\n",
       " '的',\n",
       " '枪支',\n",
       " '跎',\n",
       " '芪',\n",
       " '洌',\n",
       " '阂',\n",
       " '舶括',\n",
       " '制式',\n",
       " '枪',\n",
       " '有的是',\n",
       " '军用',\n",
       " '枪',\n",
       " '仿制',\n",
       " '的',\n",
       " '制式',\n",
       " '抢',\n",
       " '还有',\n",
       " '猎枪',\n",
       " '私制',\n",
       " '的',\n",
       " '火药枪',\n",
       " '等等',\n",
       " '按照',\n",
       " '我国',\n",
       " '的',\n",
       " '枪支',\n",
       " '管理法',\n",
       " '这些',\n",
       " '都',\n",
       " '是',\n",
       " '严厉',\n",
       " '禁止',\n",
       " '个人',\n",
       " '非法',\n",
       " '持有',\n",
       " '的',\n",
       " '中国',\n",
       " '是',\n",
       " '世界',\n",
       " '上',\n",
       " '持枪',\n",
       " '犯罪',\n",
       " '的',\n",
       " '犯罪率',\n",
       " '最低',\n",
       " '的',\n",
       " '国家',\n",
       " '之一',\n",
       " '忻懒手',\n",
       " '破获',\n",
       " '特大',\n",
       " '跨国',\n",
       " '走私',\n",
       " '武器弹药',\n",
       " '案日',\n",
       " '中美',\n",
       " '执法',\n",
       " '部门',\n",
       " '联手',\n",
       " '成功',\n",
       " '破获',\n",
       " '特大',\n",
       " '跨国',\n",
       " '走私',\n",
       " '武器弹药',\n",
       " '案',\n",
       " '在',\n",
       " '中国',\n",
       " '抓获',\n",
       " '犯罪',\n",
       " '嫌疑人',\n",
       " '名',\n",
       " '缴获',\n",
       " '各类',\n",
       " '枪支',\n",
       " '支',\n",
       " '子弹',\n",
       " '万余',\n",
       " '发及',\n",
       " '大量',\n",
       " '枪支',\n",
       " '配件',\n",
       " '在',\n",
       " '美国',\n",
       " '抓获',\n",
       " '犯罪',\n",
       " '嫌疑人',\n",
       " '名',\n",
       " '缴获',\n",
       " '各类',\n",
       " '枪支',\n",
       " '支',\n",
       " '这',\n",
       " '是',\n",
       " '公安部',\n",
       " '与',\n",
       " '美国移民',\n",
       " '海关',\n",
       " '执法局',\n",
       " '通过',\n",
       " '联合',\n",
       " '调查',\n",
       " '方式',\n",
       " '侦破',\n",
       " '重大',\n",
       " '跨国',\n",
       " '案件',\n",
       " '的',\n",
       " '又',\n",
       " '一',\n",
       " '成功',\n",
       " '案例',\n",
       " '玻埃保',\n",
       " '蹦',\n",
       " '辏',\n",
       " '冈',\n",
       " '拢',\n",
       " '玻',\n",
       " '等',\n",
       " '眨',\n",
       " '上海浦东国际机场',\n",
       " '海关',\n",
       " '在',\n",
       " '对',\n",
       " '美国纽约',\n",
       " '发',\n",
       " '往',\n",
       " '浙江',\n",
       " '台州',\n",
       " '申报',\n",
       " '品名',\n",
       " '为',\n",
       " '扩音器',\n",
       " '音箱',\n",
       " '的',\n",
       " '快件',\n",
       " '进行',\n",
       " '查验',\n",
       " '时',\n",
       " '发现',\n",
       " '货物',\n",
       " '内',\n",
       " '藏有',\n",
       " '手',\n",
       " '枪支',\n",
       " '枪支',\n",
       " '配件',\n",
       " '件',\n",
       " '长枪',\n",
       " '部件',\n",
       " '件',\n",
       " '经',\n",
       " '检验',\n",
       " '这些',\n",
       " '都',\n",
       " '是',\n",
       " '具有',\n",
       " '杀伤力',\n",
       " '的',\n",
       " '制式',\n",
       " '枪支',\n",
       " '及其',\n",
       " '配件',\n",
       " '这',\n",
       " '引起',\n",
       " '了',\n",
       " '公安部',\n",
       " '和',\n",
       " '海关总署',\n",
       " '的',\n",
       " '高度重视',\n",
       " '安部',\n",
       " '刑侦局',\n",
       " '局长',\n",
       " '刘安',\n",
       " '成',\n",
       " '因为',\n",
       " '是从',\n",
       " '海关',\n",
       " '进口',\n",
       " '的',\n",
       " '货物',\n",
       " '中',\n",
       " '检查',\n",
       " '出来',\n",
       " '夹带',\n",
       " '说明',\n",
       " '来源',\n",
       " '地是',\n",
       " '境外',\n",
       " '或是',\n",
       " '说',\n",
       " '国外',\n",
       " '这',\n",
       " '应该',\n",
       " '是',\n",
       " '一起',\n",
       " '特大',\n",
       " '跨国',\n",
       " '走私',\n",
       " '武器弹药',\n",
       " '的',\n",
       " '案件',\n",
       " '虾',\n",
       " '泄安局',\n",
       " '和',\n",
       " '上海海关',\n",
       " '缉私局',\n",
       " '成立',\n",
       " '联合',\n",
       " '专案组',\n",
       " '迅速开展',\n",
       " '案件',\n",
       " '侦查',\n",
       " '专案组',\n",
       " '于',\n",
       " '月',\n",
       " '日',\n",
       " '在',\n",
       " '浙江',\n",
       " '台州',\n",
       " '取件',\n",
       " '处',\n",
       " '将',\n",
       " '犯罪',\n",
       " '嫌疑人',\n",
       " '王挺',\n",
       " '男岁',\n",
       " '台州市',\n",
       " '人',\n",
       " '抓获',\n",
       " '王挺',\n",
       " '交代',\n",
       " '他',\n",
       " '通过',\n",
       " '一',\n",
       " '境外',\n",
       " '网站',\n",
       " '上',\n",
       " '认识',\n",
       " '了',\n",
       " '上家',\n",
       " '林志富',\n",
       " '年',\n",
       " '月',\n",
       " '以来',\n",
       " '林志富',\n",
       " '长期',\n",
       " '居住',\n",
       " '美国',\n",
       " '他',\n",
       " '通过',\n",
       " '互联网',\n",
       " '组建',\n",
       " '了',\n",
       " '一个',\n",
       " '走私',\n",
       " '贩卖',\n",
       " '私藏枪支',\n",
       " '弹药',\n",
       " '的',\n",
       " '群体',\n",
       " '通过',\n",
       " '网络',\n",
       " '在',\n",
       " '国内',\n",
       " '寻找',\n",
       " '枪支弹药',\n",
       " '买家',\n",
       " '并',\n",
       " '通过',\n",
       " '美国联邦',\n",
       " '速递',\n",
       " '公司',\n",
       " '将',\n",
       " '枪支弹药',\n",
       " '从',\n",
       " '纽约',\n",
       " '快',\n",
       " '递给',\n",
       " '多名',\n",
       " '类似',\n",
       " '王挺',\n",
       " '的',\n",
       " '中间人',\n",
       " '再',\n",
       " '通过',\n",
       " '中间人',\n",
       " '发送给',\n",
       " '国内',\n",
       " '买家',\n",
       " '税钢校',\n",
       " '犯罪分子',\n",
       " '依托',\n",
       " '虚拟',\n",
       " '网络',\n",
       " '进行',\n",
       " '犯罪',\n",
       " '交易',\n",
       " '隐蔽性',\n",
       " '强',\n",
       " '涉案人员',\n",
       " '使用',\n",
       " '的',\n",
       " '身份',\n",
       " '地址',\n",
       " '联系方式',\n",
       " '都',\n",
       " '是',\n",
       " '虚构',\n",
       " '的',\n",
       " '侦查',\n",
       " '难度很大',\n",
       " '刘安',\n",
       " '成',\n",
       " '说',\n",
       " '此案',\n",
       " '体现',\n",
       " '了',\n",
       " '是',\n",
       " '新型',\n",
       " '犯罪',\n",
       " '特别',\n",
       " '是',\n",
       " '现代',\n",
       " '犯罪',\n",
       " '的',\n",
       " '新',\n",
       " '特点',\n",
       " '醢',\n",
       " '渤桑核',\n",
       " '不受',\n",
       " '距离',\n",
       " '的',\n",
       " '限制',\n",
       " '经常',\n",
       " '是',\n",
       " '跨国',\n",
       " '跨境',\n",
       " '甚至',\n",
       " '是',\n",
       " '跨',\n",
       " '一个',\n",
       " '数个',\n",
       " '甚至',\n",
       " '数十个',\n",
       " '国家',\n",
       " '这种',\n",
       " '犯罪',\n",
       " '手法',\n",
       " '的',\n",
       " '改变',\n",
       " '和',\n",
       " '新型',\n",
       " '犯罪',\n",
       " '的',\n",
       " '特点',\n",
       " '要求',\n",
       " '我们',\n",
       " '各国',\n",
       " '警方',\n",
       " '充分',\n",
       " '合作',\n",
       " '髡',\n",
       " '撸',\n",
       " '禾',\n",
       " '酪',\n",
       " '涣',\n",
       " '痢胜春']"
      ]
     },
     "execution_count": 29,
     "metadata": {},
     "output_type": "execute_result"
    }
   ],
   "source": [
    "df['微博内容分词'].iloc[0]"
   ]
  },
  {
   "cell_type": "code",
   "execution_count": 30,
   "id": "92b11e96",
   "metadata": {
    "ExecuteTime": {
     "end_time": "2024-05-07T02:02:11.607805Z",
     "start_time": "2024-05-07T02:02:11.595836Z"
    }
   },
   "outputs": [
    {
     "name": "stdout",
     "output_type": "stream",
     "text": [
      "\n",
      "Score: 0.9984633326530457\t \n",
      "Topic: 0.024*\"的\" + 0.012*\"在\" + 0.009*\"了\" + 0.008*\"和\" + 0.005*\"枪支\" + 0.005*\"月\" + 0.004*\"将\" + 0.004*\"量化\" + 0.004*\"犯罪\" + 0.004*\"是\"\n"
     ]
    },
    {
     "name": "stderr",
     "output_type": "stream",
     "text": [
      "C:\\Users\\dell\\anaconda3\\lib\\site-packages\\ipykernel\\ipkernel.py:287: DeprecationWarning: `should_run_async` will not call `transform_cell` automatically in the future. Please pass the result to `transformed_cell` argument and any exception that happen during thetransform in `preprocessing_exc_tuple` in IPython 7.17 and above.\n",
      "  and should_run_async(code)\n"
     ]
    }
   ],
   "source": [
    "for index, score in sorted(lda_model[corpus[0]], key=lambda tup: -1*tup[1]):\n",
    "    print(\"\\nScore: {}\\t \\nTopic: {}\".format(score, lda_model.print_topic(index, 10)))"
   ]
  },
  {
   "cell_type": "code",
   "execution_count": 31,
   "id": "e3ff903f",
   "metadata": {
    "ExecuteTime": {
     "end_time": "2024-05-07T02:02:19.771519Z",
     "start_time": "2024-05-07T02:02:19.762066Z"
    }
   },
   "outputs": [
    {
     "name": "stderr",
     "output_type": "stream",
     "text": [
      "C:\\Users\\dell\\anaconda3\\lib\\site-packages\\ipykernel\\ipkernel.py:287: DeprecationWarning: `should_run_async` will not call `transform_cell` automatically in the future. Please pass the result to `transformed_cell` argument and any exception that happen during thetransform in `preprocessing_exc_tuple` in IPython 7.17 and above.\n",
      "  and should_run_async(code)\n"
     ]
    }
   ],
   "source": [
    "documents = df['微博内容分词'].values"
   ]
  },
  {
   "cell_type": "code",
   "execution_count": 32,
   "id": "b839ad90",
   "metadata": {
    "ExecuteTime": {
     "end_time": "2024-05-07T02:02:26.461260Z",
     "start_time": "2024-05-07T02:02:26.436084Z"
    }
   },
   "outputs": [
    {
     "name": "stdout",
     "output_type": "stream",
     "text": [
      "Document 1:\n",
      "[(2, 0.99846333)]\n",
      "\n",
      "Document 2:\n",
      "[(0, 0.9978109)]\n",
      "\n",
      "Document 3:\n",
      "[(2, 0.9952811)]\n",
      "\n",
      "Document 4:\n",
      "[(0, 0.99818397)]\n",
      "\n",
      "Document 5:\n",
      "[(1, 0.9962489)]\n",
      "\n",
      "Document 6:\n",
      "[(0, 0.9988677)]\n",
      "\n",
      "Document 7:\n",
      "[(3, 0.9871064)]\n",
      "\n",
      "Document 8:\n",
      "[(4, 0.9973043)]\n",
      "\n",
      "Document 9:\n",
      "[(0, 0.99394757)]\n",
      "\n",
      "Document 10:\n",
      "[(2, 0.9888757)]\n",
      "\n"
     ]
    },
    {
     "name": "stderr",
     "output_type": "stream",
     "text": [
      "C:\\Users\\dell\\anaconda3\\lib\\site-packages\\ipykernel\\ipkernel.py:287: DeprecationWarning: `should_run_async` will not call `transform_cell` automatically in the future. Please pass the result to `transformed_cell` argument and any exception that happen during thetransform in `preprocessing_exc_tuple` in IPython 7.17 and above.\n",
      "  and should_run_async(code)\n"
     ]
    }
   ],
   "source": [
    "# Function to infer topics for a document\n",
    "def infer_topics(lda_model, document):\n",
    "    bow = dictionary.doc2bow(document)\n",
    "    topics = lda_model.get_document_topics(bow)\n",
    "    return topics\n",
    "\n",
    "# Print topics for each document\n",
    "for i, doc in enumerate(documents[:10]):\n",
    "    doc_topics = infer_topics(lda_model, doc)\n",
    "    print(f\"Document {i+1}:\")\n",
    "    print(doc_topics)\n",
    "    print()"
   ]
  },
  {
   "cell_type": "code",
   "execution_count": 35,
   "id": "2a87b5d1",
   "metadata": {
    "ExecuteTime": {
     "end_time": "2024-05-07T02:13:45.103113Z",
     "start_time": "2024-05-07T02:13:45.090150Z"
    }
   },
   "outputs": [
    {
     "name": "stderr",
     "output_type": "stream",
     "text": [
      "C:\\Users\\dell\\anaconda3\\lib\\site-packages\\ipykernel\\ipkernel.py:287: DeprecationWarning: `should_run_async` will not call `transform_cell` automatically in the future. Please pass the result to `transformed_cell` argument and any exception that happen during thetransform in `preprocessing_exc_tuple` in IPython 7.17 and above.\n",
      "  and should_run_async(code)\n"
     ]
    },
    {
     "ename": "SyntaxError",
     "evalue": "invalid syntax (<ipython-input-35-0b7f076fc385>, line 1)",
     "output_type": "error",
     "traceback": [
      "\u001b[1;36m  File \u001b[1;32m\"<ipython-input-35-0b7f076fc385>\"\u001b[1;36m, line \u001b[1;32m1\u001b[0m\n\u001b[1;33m    pip list\u001b[0m\n\u001b[1;37m        ^\u001b[0m\n\u001b[1;31mSyntaxError\u001b[0m\u001b[1;31m:\u001b[0m invalid syntax\n"
     ]
    }
   ],
   "source": [
    "pip list\n",
    "conda remove d2l\n",
    "conda remove pandas\n",
    "conda install d2l\n",
    "conda install pandas"
   ]
  },
  {
   "cell_type": "code",
   "execution_count": 37,
   "id": "ccf97152",
   "metadata": {
    "ExecuteTime": {
     "end_time": "2024-05-07T02:20:58.413399Z",
     "start_time": "2024-05-07T02:20:29.915309Z"
    }
   },
   "outputs": [
    {
     "name": "stderr",
     "output_type": "stream",
     "text": [
      "C:\\Users\\dell\\anaconda3\\lib\\site-packages\\ipykernel\\ipkernel.py:287: DeprecationWarning: `should_run_async` will not call `transform_cell` automatically in the future. Please pass the result to `transformed_cell` argument and any exception that happen during thetransform in `preprocessing_exc_tuple` in IPython 7.17 and above.\n",
      "  and should_run_async(code)\n"
     ]
    },
    {
     "name": "stdout",
     "output_type": "stream",
     "text": [
      "Collecting package metadata (current_repodata.json): ...working... done\n",
      "Solving environment: ...working... \n",
      "\n",
      "Updating pandas is constricted by \n",
      "\n",
      "anaconda -> requires pandas==1.2.4=py38hd77b12b_0\n",
      "\n",
      "If you are sure you want an update of your package either try `conda update --all` or install a specific version of the package you want using `conda install <pkg>=<version>`\n",
      "\n",
      "done\n",
      "\n",
      "## Package Plan ##\n",
      "\n",
      "  environment location: C:\\Users\\dell\\anaconda3\n",
      "\n",
      "  added / updated specs:\n",
      "    - pandas\n",
      "\n",
      "\n",
      "The following packages will be downloaded:\n",
      "\n",
      "    package                    |            build\n",
      "    ---------------------------|-----------------\n",
      "    conda-package-handling-2.2.0|   py38haa95532_1         292 KB\n",
      "    conda-package-streaming-0.9.0|   py38haa95532_0          29 KB\n",
      "    freetype-2.10.4            |       hd328e21_0         466 KB\n",
      "    heapdict-1.0.1             |             py_0           9 KB\n",
      "    jdcal-1.4.1                |             py_0          11 KB\n",
      "    jsonschema-3.2.0           |             py_2          47 KB\n",
      "    libzopfli-1.0.3            |       ha925a31_0         176 KB\n",
      "    path.py-12.5.0             |                0           4 KB\n",
      "    winpty-0.4.3               |                4         678 KB\n",
      "    xmltodict-0.13.0           |   py38haa95532_0          19 KB\n",
      "    yaml-0.2.5                 |       he774522_0          62 KB\n",
      "    ------------------------------------------------------------\n",
      "                                           Total:         1.8 MB\n",
      "\n",
      "The following packages will be UPDATED:\n",
      "\n",
      "  backports.tempfile conda-forge::backports.tempfile-1.0-p~ --> pkgs/main::backports.tempfile-1.0-pyhd3eb1b0_1\n",
      "  conda-package-han~ conda-forge/noarch::conda-package-han~ --> pkgs/main/win-64::conda-package-handling-2.2.0-py38haa95532_1\n",
      "\n",
      "The following packages will be SUPERSEDED by a higher-priority channel:\n",
      "\n",
      "  backports.functoo~ conda-forge::backports.functools_lru_~ --> pkgs/main::backports.functools_lru_cache-1.6.4-pyhd3eb1b0_0\n",
      "  backports.weakref  conda-forge::backports.weakref-1.0.po~ --> pkgs/main::backports.weakref-1.0.post1-py_1\n",
      "  conda-package-str~ conda-forge/noarch::conda-package-str~ --> pkgs/main/win-64::conda-package-streaming-0.9.0-py38haa95532_0\n",
      "  freetype                                      conda-forge --> pkgs/main\n",
      "  heapdict                                      conda-forge --> pkgs/main\n",
      "  jdcal                                         conda-forge --> pkgs/main\n",
      "  jsonschema                                    conda-forge --> pkgs/main\n",
      "  libzopfli                                     conda-forge --> pkgs/main\n",
      "  path.py                                       conda-forge --> pkgs/main\n",
      "  winpty                                        conda-forge --> pkgs/main\n",
      "  xmltodict          conda-forge/noarch::xmltodict-0.13.0-~ --> pkgs/main/win-64::xmltodict-0.13.0-py38haa95532_0\n",
      "  yaml                                          conda-forge --> pkgs/main\n",
      "\n",
      "\n",
      "\n",
      "Downloading and Extracting Packages\n",
      "\n",
      "jsonschema-3.2.0     | 47 KB     |            |   0% \n",
      "jsonschema-3.2.0     | 47 KB     | ###4       |  34% \n",
      "jsonschema-3.2.0     | 47 KB     | ########## | 100% \n",
      "\n",
      "path.py-12.5.0       | 4 KB      |            |   0% \n",
      "path.py-12.5.0       | 4 KB      | ########## | 100% \n",
      "path.py-12.5.0       | 4 KB      | ########## | 100% \n",
      "\n",
      "xmltodict-0.13.0     | 19 KB     |            |   0% \n",
      "xmltodict-0.13.0     | 19 KB     | ########2  |  83% \n",
      "xmltodict-0.13.0     | 19 KB     | ########## | 100% \n",
      "\n",
      "heapdict-1.0.1       | 9 KB      |            |   0% \n",
      "heapdict-1.0.1       | 9 KB      | ########## | 100% \n",
      "heapdict-1.0.1       | 9 KB      | ########## | 100% \n",
      "\n",
      "winpty-0.4.3         | 678 KB    |            |   0% \n",
      "winpty-0.4.3         | 678 KB    | 2          |   2% \n",
      "winpty-0.4.3         | 678 KB    | 9          |   9% \n",
      "winpty-0.4.3         | 678 KB    | ##5        |  26% \n",
      "winpty-0.4.3         | 678 KB    | ####9      |  50% \n",
      "winpty-0.4.3         | 678 KB    | #######7   |  78% \n",
      "winpty-0.4.3         | 678 KB    | ########## | 100% \n",
      "winpty-0.4.3         | 678 KB    | ########## | 100% \n",
      "\n",
      "yaml-0.2.5           | 62 KB     |            |   0% \n",
      "yaml-0.2.5           | 62 KB     | ##5        |  26% \n",
      "yaml-0.2.5           | 62 KB     | ########## | 100% \n",
      "\n",
      "conda-package-handli | 292 KB    |            |   0% \n",
      "conda-package-handli | 292 KB    | 5          |   5% \n",
      "conda-package-handli | 292 KB    | ######     |  60% \n",
      "conda-package-handli | 292 KB    | ########## | 100% \n",
      "conda-package-handli | 292 KB    | ########## | 100% \n",
      "\n",
      "conda-package-stream | 29 KB     |            |   0% \n",
      "conda-package-stream | 29 KB     | #####5     |  56% \n",
      "conda-package-stream | 29 KB     | ########## | 100% \n",
      "\n",
      "jdcal-1.4.1          | 11 KB     |            |   0% \n",
      "jdcal-1.4.1          | 11 KB     | ########## | 100% \n",
      "jdcal-1.4.1          | 11 KB     | ########## | 100% \n",
      "\n",
      "libzopfli-1.0.3      | 176 KB    |            |   0% \n",
      "libzopfli-1.0.3      | 176 KB    | 9          |   9% \n",
      "libzopfli-1.0.3      | 176 KB    | ########## | 100% \n",
      "libzopfli-1.0.3      | 176 KB    | ########## | 100% \n",
      "\n",
      "freetype-2.10.4      | 466 KB    |            |   0% \n",
      "freetype-2.10.4      | 466 KB    | 3          |   3% \n",
      "freetype-2.10.4      | 466 KB    | ####4      |  45% \n",
      "freetype-2.10.4      | 466 KB    | ########## | 100% \n",
      "freetype-2.10.4      | 466 KB    | ########## | 100% \n",
      "Preparing transaction: ...working... done\n",
      "Verifying transaction: ...working... done\n",
      "Executing transaction: ...working... done\n",
      "Retrieving notices: ...working... done\n",
      "\n",
      "Note: you may need to restart the kernel to use updated packages.\n"
     ]
    }
   ],
   "source": [
    "conda update pandas"
   ]
  },
  {
   "cell_type": "code",
   "execution_count": null,
   "id": "e1af228e",
   "metadata": {},
   "outputs": [],
   "source": []
  },
  {
   "cell_type": "code",
   "execution_count": 39,
   "id": "64af9645",
   "metadata": {
    "ExecuteTime": {
     "end_time": "2024-05-07T02:22:05.751518Z",
     "start_time": "2024-05-07T02:22:05.665955Z"
    }
   },
   "outputs": [
    {
     "name": "stderr",
     "output_type": "stream",
     "text": [
      "C:\\Users\\dell\\anaconda3\\lib\\site-packages\\ipykernel\\ipkernel.py:287: DeprecationWarning: `should_run_async` will not call `transform_cell` automatically in the future. Please pass the result to `transformed_cell` argument and any exception that happen during thetransform in `preprocessing_exc_tuple` in IPython 7.17 and above.\n",
      "  and should_run_async(code)\n"
     ]
    },
    {
     "ename": "ImportError",
     "evalue": "cannot import name 'find_stack_level' from 'pandas.util._exceptions' (C:\\Users\\dell\\anaconda3\\lib\\site-packages\\pandas\\util\\_exceptions.py)",
     "output_type": "error",
     "traceback": [
      "\u001b[1;31m---------------------------------------------------------------------------\u001b[0m",
      "\u001b[1;31mImportError\u001b[0m                               Traceback (most recent call last)",
      "\u001b[1;32m<ipython-input-39-069edf893aa2>\u001b[0m in \u001b[0;36m<module>\u001b[1;34m\u001b[0m\n\u001b[1;32m----> 1\u001b[1;33m \u001b[0mlda_vis\u001b[0m \u001b[1;33m=\u001b[0m \u001b[0mgensimvis\u001b[0m\u001b[1;33m.\u001b[0m\u001b[0mprepare\u001b[0m\u001b[1;33m(\u001b[0m\u001b[0mlda_model\u001b[0m\u001b[1;33m,\u001b[0m \u001b[0mcorpus\u001b[0m\u001b[1;33m,\u001b[0m \u001b[0mdictionary\u001b[0m\u001b[1;33m,\u001b[0m \u001b[0mn_jobs\u001b[0m\u001b[1;33m=\u001b[0m\u001b[1;36m1\u001b[0m\u001b[1;33m)\u001b[0m \u001b[1;31m# 备注：上述语句如果在数据量比较大的时候跑不出来，可以选择加一个n_jobs=1的参数，降低计算量，避免报错\u001b[0m\u001b[1;33m\u001b[0m\u001b[1;33m\u001b[0m\u001b[0m\n\u001b[0m\u001b[0;32m      2\u001b[0m \u001b[1;31m# 显示可视化界面\u001b[0m\u001b[1;33m\u001b[0m\u001b[1;33m\u001b[0m\u001b[1;33m\u001b[0m\u001b[0m\n\u001b[0;32m      3\u001b[0m \u001b[0mpyLDAvis\u001b[0m\u001b[1;33m.\u001b[0m\u001b[0mdisplay\u001b[0m\u001b[1;33m(\u001b[0m\u001b[0mlda_vis\u001b[0m\u001b[1;33m)\u001b[0m\u001b[1;33m\u001b[0m\u001b[1;33m\u001b[0m\u001b[0m\n",
      "\u001b[1;32m~\\anaconda3\\lib\\site-packages\\pyLDAvis\\gensim_models.py\u001b[0m in \u001b[0;36mprepare\u001b[1;34m(topic_model, corpus, dictionary, doc_topic_dist, **kwargs)\u001b[0m\n\u001b[0;32m    121\u001b[0m     \"\"\"\n\u001b[0;32m    122\u001b[0m     \u001b[0mopts\u001b[0m \u001b[1;33m=\u001b[0m \u001b[0mfp\u001b[0m\u001b[1;33m.\u001b[0m\u001b[0mmerge\u001b[0m\u001b[1;33m(\u001b[0m\u001b[0m_extract_data\u001b[0m\u001b[1;33m(\u001b[0m\u001b[0mtopic_model\u001b[0m\u001b[1;33m,\u001b[0m \u001b[0mcorpus\u001b[0m\u001b[1;33m,\u001b[0m \u001b[0mdictionary\u001b[0m\u001b[1;33m,\u001b[0m \u001b[0mdoc_topic_dist\u001b[0m\u001b[1;33m)\u001b[0m\u001b[1;33m,\u001b[0m \u001b[0mkwargs\u001b[0m\u001b[1;33m)\u001b[0m\u001b[1;33m\u001b[0m\u001b[1;33m\u001b[0m\u001b[0m\n\u001b[1;32m--> 123\u001b[1;33m     \u001b[1;32mreturn\u001b[0m \u001b[0mpyLDAvis\u001b[0m\u001b[1;33m.\u001b[0m\u001b[0mprepare\u001b[0m\u001b[1;33m(\u001b[0m\u001b[1;33m**\u001b[0m\u001b[0mopts\u001b[0m\u001b[1;33m)\u001b[0m\u001b[1;33m\u001b[0m\u001b[1;33m\u001b[0m\u001b[0m\n\u001b[0m",
      "\u001b[1;32m~\\anaconda3\\lib\\site-packages\\pyLDAvis\\_prepare.py\u001b[0m in \u001b[0;36mprepare\u001b[1;34m(topic_term_dists, doc_topic_dists, doc_lengths, vocab, term_frequency, R, lambda_step, mds, n_jobs, plot_opts, sort_topics, start_index)\u001b[0m\n\u001b[0;32m    406\u001b[0m     \u001b[0mdoc_lengths\u001b[0m \u001b[1;33m=\u001b[0m \u001b[0m_series_with_name\u001b[0m\u001b[1;33m(\u001b[0m\u001b[0mdoc_lengths\u001b[0m\u001b[1;33m,\u001b[0m \u001b[1;34m'doc_length'\u001b[0m\u001b[1;33m)\u001b[0m\u001b[1;33m\u001b[0m\u001b[1;33m\u001b[0m\u001b[0m\n\u001b[0;32m    407\u001b[0m     \u001b[0mvocab\u001b[0m \u001b[1;33m=\u001b[0m \u001b[0m_series_with_name\u001b[0m\u001b[1;33m(\u001b[0m\u001b[0mvocab\u001b[0m\u001b[1;33m,\u001b[0m \u001b[1;34m'vocab'\u001b[0m\u001b[1;33m)\u001b[0m\u001b[1;33m\u001b[0m\u001b[1;33m\u001b[0m\u001b[0m\n\u001b[1;32m--> 408\u001b[1;33m     \u001b[0m_input_validate\u001b[0m\u001b[1;33m(\u001b[0m\u001b[0mtopic_term_dists\u001b[0m\u001b[1;33m,\u001b[0m \u001b[0mdoc_topic_dists\u001b[0m\u001b[1;33m,\u001b[0m \u001b[0mdoc_lengths\u001b[0m\u001b[1;33m,\u001b[0m \u001b[0mvocab\u001b[0m\u001b[1;33m,\u001b[0m \u001b[0mterm_frequency\u001b[0m\u001b[1;33m)\u001b[0m\u001b[1;33m\u001b[0m\u001b[1;33m\u001b[0m\u001b[0m\n\u001b[0m\u001b[0;32m    409\u001b[0m     \u001b[0mR\u001b[0m \u001b[1;33m=\u001b[0m \u001b[0mmin\u001b[0m\u001b[1;33m(\u001b[0m\u001b[0mR\u001b[0m\u001b[1;33m,\u001b[0m \u001b[0mlen\u001b[0m\u001b[1;33m(\u001b[0m\u001b[0mvocab\u001b[0m\u001b[1;33m)\u001b[0m\u001b[1;33m)\u001b[0m\u001b[1;33m\u001b[0m\u001b[1;33m\u001b[0m\u001b[0m\n\u001b[0;32m    410\u001b[0m \u001b[1;33m\u001b[0m\u001b[0m\n",
      "\u001b[1;32m~\\anaconda3\\lib\\site-packages\\pyLDAvis\\_prepare.py\u001b[0m in \u001b[0;36m_input_validate\u001b[1;34m(*args)\u001b[0m\n\u001b[0;32m     65\u001b[0m \u001b[1;33m\u001b[0m\u001b[0m\n\u001b[0;32m     66\u001b[0m \u001b[1;32mdef\u001b[0m \u001b[0m_input_validate\u001b[0m\u001b[1;33m(\u001b[0m\u001b[1;33m*\u001b[0m\u001b[0margs\u001b[0m\u001b[1;33m)\u001b[0m\u001b[1;33m:\u001b[0m\u001b[1;33m\u001b[0m\u001b[1;33m\u001b[0m\u001b[0m\n\u001b[1;32m---> 67\u001b[1;33m     \u001b[0mres\u001b[0m \u001b[1;33m=\u001b[0m \u001b[0m_input_check\u001b[0m\u001b[1;33m(\u001b[0m\u001b[1;33m*\u001b[0m\u001b[0margs\u001b[0m\u001b[1;33m)\u001b[0m\u001b[1;33m\u001b[0m\u001b[1;33m\u001b[0m\u001b[0m\n\u001b[0m\u001b[0;32m     68\u001b[0m     \u001b[1;32mif\u001b[0m \u001b[0mres\u001b[0m\u001b[1;33m:\u001b[0m\u001b[1;33m\u001b[0m\u001b[1;33m\u001b[0m\u001b[0m\n\u001b[0;32m     69\u001b[0m         \u001b[1;32mraise\u001b[0m \u001b[0mValidationError\u001b[0m\u001b[1;33m(\u001b[0m\u001b[1;34m'\\n'\u001b[0m \u001b[1;33m+\u001b[0m \u001b[1;34m'\\n'\u001b[0m\u001b[1;33m.\u001b[0m\u001b[0mjoin\u001b[0m\u001b[1;33m(\u001b[0m\u001b[1;33m[\u001b[0m\u001b[1;34m' * '\u001b[0m \u001b[1;33m+\u001b[0m \u001b[0ms\u001b[0m \u001b[1;32mfor\u001b[0m \u001b[0ms\u001b[0m \u001b[1;32min\u001b[0m \u001b[0mres\u001b[0m\u001b[1;33m]\u001b[0m\u001b[1;33m)\u001b[0m\u001b[1;33m)\u001b[0m\u001b[1;33m\u001b[0m\u001b[1;33m\u001b[0m\u001b[0m\n",
      "\u001b[1;32m~\\anaconda3\\lib\\site-packages\\pyLDAvis\\_prepare.py\u001b[0m in \u001b[0;36m_input_check\u001b[1;34m(topic_term_dists, doc_topic_dists, doc_lengths, vocab, term_frequency)\u001b[0m\n\u001b[0;32m     54\u001b[0m         \u001b[0merr\u001b[0m\u001b[1;33m(\u001b[0m\u001b[0merr_msg\u001b[0m\u001b[1;33m)\u001b[0m\u001b[1;33m\u001b[0m\u001b[1;33m\u001b[0m\u001b[0m\n\u001b[0;32m     55\u001b[0m \u001b[1;33m\u001b[0m\u001b[0m\n\u001b[1;32m---> 56\u001b[1;33m     \u001b[1;32mif\u001b[0m \u001b[0m__num_dist_rows__\u001b[0m\u001b[1;33m(\u001b[0m\u001b[0mtopic_term_dists\u001b[0m\u001b[1;33m)\u001b[0m \u001b[1;33m!=\u001b[0m \u001b[0mttds\u001b[0m\u001b[1;33m[\u001b[0m\u001b[1;36m0\u001b[0m\u001b[1;33m]\u001b[0m\u001b[1;33m:\u001b[0m\u001b[1;33m\u001b[0m\u001b[1;33m\u001b[0m\u001b[0m\n\u001b[0m\u001b[0;32m     57\u001b[0m         \u001b[0merr\u001b[0m\u001b[1;33m(\u001b[0m\u001b[1;34m'Not all rows (distributions) in topic_term_dists sum to 1.'\u001b[0m\u001b[1;33m)\u001b[0m\u001b[1;33m\u001b[0m\u001b[1;33m\u001b[0m\u001b[0m\n\u001b[0;32m     58\u001b[0m \u001b[1;33m\u001b[0m\u001b[0m\n",
      "\u001b[1;32m~\\anaconda3\\lib\\site-packages\\pyLDAvis\\_prepare.py\u001b[0m in \u001b[0;36m__num_dist_rows__\u001b[1;34m(array, ndigits)\u001b[0m\n\u001b[0;32m     18\u001b[0m \u001b[1;33m\u001b[0m\u001b[0m\n\u001b[0;32m     19\u001b[0m \u001b[1;32mdef\u001b[0m \u001b[0m__num_dist_rows__\u001b[0m\u001b[1;33m(\u001b[0m\u001b[0marray\u001b[0m\u001b[1;33m,\u001b[0m \u001b[0mndigits\u001b[0m\u001b[1;33m=\u001b[0m\u001b[1;36m2\u001b[0m\u001b[1;33m)\u001b[0m\u001b[1;33m:\u001b[0m\u001b[1;33m\u001b[0m\u001b[1;33m\u001b[0m\u001b[0m\n\u001b[1;32m---> 20\u001b[1;33m     \u001b[1;32mreturn\u001b[0m \u001b[0marray\u001b[0m\u001b[1;33m.\u001b[0m\u001b[0mshape\u001b[0m\u001b[1;33m[\u001b[0m\u001b[1;36m0\u001b[0m\u001b[1;33m]\u001b[0m \u001b[1;33m-\u001b[0m \u001b[0mint\u001b[0m\u001b[1;33m(\u001b[0m\u001b[1;33m(\u001b[0m\u001b[0mpd\u001b[0m\u001b[1;33m.\u001b[0m\u001b[0mDataFrame\u001b[0m\u001b[1;33m(\u001b[0m\u001b[0marray\u001b[0m\u001b[1;33m)\u001b[0m\u001b[1;33m.\u001b[0m\u001b[0msum\u001b[0m\u001b[1;33m(\u001b[0m\u001b[0maxis\u001b[0m\u001b[1;33m=\u001b[0m\u001b[1;36m1\u001b[0m\u001b[1;33m)\u001b[0m \u001b[1;33m<\u001b[0m \u001b[1;36m0.999\u001b[0m\u001b[1;33m)\u001b[0m\u001b[1;33m.\u001b[0m\u001b[0msum\u001b[0m\u001b[1;33m(\u001b[0m\u001b[1;33m)\u001b[0m\u001b[1;33m)\u001b[0m\u001b[1;33m\u001b[0m\u001b[1;33m\u001b[0m\u001b[0m\n\u001b[0m\u001b[0;32m     21\u001b[0m \u001b[1;33m\u001b[0m\u001b[0m\n\u001b[0;32m     22\u001b[0m \u001b[1;33m\u001b[0m\u001b[0m\n",
      "\u001b[1;32m~\\anaconda3\\lib\\site-packages\\pandas\\core\\ops\\common.py\u001b[0m in \u001b[0;36mnew_method\u001b[1;34m(self, other)\u001b[0m\n\u001b[0;32m     63\u001b[0m     \u001b[1;32melse\u001b[0m\u001b[1;33m:\u001b[0m\u001b[1;33m\u001b[0m\u001b[1;33m\u001b[0m\u001b[0m\n\u001b[0;32m     64\u001b[0m         \u001b[0mstripped_name\u001b[0m \u001b[1;33m=\u001b[0m \u001b[0mname\u001b[0m\u001b[1;33m.\u001b[0m\u001b[0mremoveprefix\u001b[0m\u001b[1;33m(\u001b[0m\u001b[1;34m\"__\"\u001b[0m\u001b[1;33m)\u001b[0m\u001b[1;33m.\u001b[0m\u001b[0mremovesuffix\u001b[0m\u001b[1;33m(\u001b[0m\u001b[1;34m\"__\"\u001b[0m\u001b[1;33m)\u001b[0m\u001b[1;33m\u001b[0m\u001b[1;33m\u001b[0m\u001b[0m\n\u001b[1;32m---> 65\u001b[1;33m     \u001b[0mis_cmp\u001b[0m \u001b[1;33m=\u001b[0m \u001b[0mstripped_name\u001b[0m \u001b[1;32min\u001b[0m \u001b[1;33m{\u001b[0m\u001b[1;34m\"eq\"\u001b[0m\u001b[1;33m,\u001b[0m \u001b[1;34m\"ne\"\u001b[0m\u001b[1;33m,\u001b[0m \u001b[1;34m\"lt\"\u001b[0m\u001b[1;33m,\u001b[0m \u001b[1;34m\"le\"\u001b[0m\u001b[1;33m,\u001b[0m \u001b[1;34m\"gt\"\u001b[0m\u001b[1;33m,\u001b[0m \u001b[1;34m\"ge\"\u001b[0m\u001b[1;33m}\u001b[0m\u001b[1;33m\u001b[0m\u001b[1;33m\u001b[0m\u001b[0m\n\u001b[0m\u001b[0;32m     66\u001b[0m \u001b[1;33m\u001b[0m\u001b[0m\n\u001b[0;32m     67\u001b[0m     \u001b[1;33m@\u001b[0m\u001b[0mwraps\u001b[0m\u001b[1;33m(\u001b[0m\u001b[0mmethod\u001b[0m\u001b[1;33m)\u001b[0m\u001b[1;33m\u001b[0m\u001b[1;33m\u001b[0m\u001b[0m\n",
      "\u001b[1;32m~\\anaconda3\\lib\\site-packages\\pandas\\core\\arraylike.py\u001b[0m in \u001b[0;36m__lt__\u001b[1;34m(self, other)\u001b[0m\n\u001b[0;32m     35\u001b[0m     \u001b[1;32mdef\u001b[0m \u001b[0m_cmp_method\u001b[0m\u001b[1;33m(\u001b[0m\u001b[0mself\u001b[0m\u001b[1;33m,\u001b[0m \u001b[0mother\u001b[0m\u001b[1;33m,\u001b[0m \u001b[0mop\u001b[0m\u001b[1;33m)\u001b[0m\u001b[1;33m:\u001b[0m\u001b[1;33m\u001b[0m\u001b[1;33m\u001b[0m\u001b[0m\n\u001b[0;32m     36\u001b[0m         \u001b[1;32mreturn\u001b[0m \u001b[0mNotImplemented\u001b[0m\u001b[1;33m\u001b[0m\u001b[1;33m\u001b[0m\u001b[0m\n\u001b[1;32m---> 37\u001b[1;33m \u001b[1;33m\u001b[0m\u001b[0m\n\u001b[0m\u001b[0;32m     38\u001b[0m     \u001b[1;33m@\u001b[0m\u001b[0munpack_zerodim_and_defer\u001b[0m\u001b[1;33m(\u001b[0m\u001b[1;34m\"__eq__\"\u001b[0m\u001b[1;33m)\u001b[0m\u001b[1;33m\u001b[0m\u001b[1;33m\u001b[0m\u001b[0m\n\u001b[0;32m     39\u001b[0m     \u001b[1;32mdef\u001b[0m \u001b[0m__eq__\u001b[0m\u001b[1;33m(\u001b[0m\u001b[0mself\u001b[0m\u001b[1;33m,\u001b[0m \u001b[0mother\u001b[0m\u001b[1;33m)\u001b[0m\u001b[1;33m:\u001b[0m\u001b[1;33m\u001b[0m\u001b[1;33m\u001b[0m\u001b[0m\n",
      "\u001b[1;32m~\\anaconda3\\lib\\site-packages\\pandas\\core\\series.py\u001b[0m in \u001b[0;36m_cmp_method\u001b[1;34m(self, other, op)\u001b[0m\n\u001b[0;32m   4976\u001b[0m         \u001b[0mself\u001b[0m\u001b[1;33m,\u001b[0m\u001b[1;33m\u001b[0m\u001b[1;33m\u001b[0m\u001b[0m\n\u001b[0;32m   4977\u001b[0m         \u001b[0mlabels\u001b[0m\u001b[1;33m:\u001b[0m \u001b[0mIndexLabel\u001b[0m \u001b[1;33m=\u001b[0m \u001b[1;33m...\u001b[0m\u001b[1;33m,\u001b[0m\u001b[1;33m\u001b[0m\u001b[1;33m\u001b[0m\u001b[0m\n\u001b[1;32m-> 4978\u001b[1;33m         \u001b[1;33m*\u001b[0m\u001b[1;33m,\u001b[0m\u001b[1;33m\u001b[0m\u001b[1;33m\u001b[0m\u001b[0m\n\u001b[0m\u001b[0;32m   4979\u001b[0m         \u001b[0maxis\u001b[0m\u001b[1;33m:\u001b[0m \u001b[0mAxis\u001b[0m \u001b[1;33m=\u001b[0m \u001b[1;33m...\u001b[0m\u001b[1;33m,\u001b[0m\u001b[1;33m\u001b[0m\u001b[1;33m\u001b[0m\u001b[0m\n\u001b[0;32m   4980\u001b[0m         \u001b[0mindex\u001b[0m\u001b[1;33m:\u001b[0m \u001b[0mIndexLabel\u001b[0m \u001b[1;33m=\u001b[0m \u001b[1;33m...\u001b[0m\u001b[1;33m,\u001b[0m\u001b[1;33m\u001b[0m\u001b[1;33m\u001b[0m\u001b[0m\n",
      "\u001b[1;32m~\\anaconda3\\lib\\site-packages\\pandas\\core\\ops\\array_ops.py\u001b[0m in \u001b[0;36mcomparison_op\u001b[1;34m(left, right, op)\u001b[0m\n\u001b[0;32m    248\u001b[0m         \u001b[0mCannot\u001b[0m \u001b[0mbe\u001b[0m \u001b[0ma\u001b[0m \u001b[0mDataFrame\u001b[0m\u001b[1;33m,\u001b[0m \u001b[0mSeries\u001b[0m\u001b[1;33m,\u001b[0m \u001b[1;32mor\u001b[0m \u001b[0mIndex\u001b[0m\u001b[1;33m.\u001b[0m\u001b[1;33m\u001b[0m\u001b[1;33m\u001b[0m\u001b[0m\n\u001b[0;32m    249\u001b[0m     \u001b[0mop\u001b[0m \u001b[1;33m:\u001b[0m \u001b[1;33m{\u001b[0m\u001b[0moperator\u001b[0m\u001b[1;33m.\u001b[0m\u001b[0meq\u001b[0m\u001b[1;33m,\u001b[0m \u001b[0moperator\u001b[0m\u001b[1;33m.\u001b[0m\u001b[0mne\u001b[0m\u001b[1;33m,\u001b[0m \u001b[0moperator\u001b[0m\u001b[1;33m.\u001b[0m\u001b[0mgt\u001b[0m\u001b[1;33m,\u001b[0m \u001b[0moperator\u001b[0m\u001b[1;33m.\u001b[0m\u001b[0mge\u001b[0m\u001b[1;33m,\u001b[0m \u001b[0moperator\u001b[0m\u001b[1;33m.\u001b[0m\u001b[0mlt\u001b[0m\u001b[1;33m,\u001b[0m \u001b[0moperator\u001b[0m\u001b[1;33m.\u001b[0m\u001b[0mle\u001b[0m\u001b[1;33m}\u001b[0m\u001b[1;33m\u001b[0m\u001b[1;33m\u001b[0m\u001b[0m\n\u001b[1;32m--> 250\u001b[1;33m \u001b[1;33m\u001b[0m\u001b[0m\n\u001b[0m\u001b[0;32m    251\u001b[0m     \u001b[0mReturns\u001b[0m\u001b[1;33m\u001b[0m\u001b[1;33m\u001b[0m\u001b[0m\n\u001b[0;32m    252\u001b[0m     \u001b[1;33m-\u001b[0m\u001b[1;33m-\u001b[0m\u001b[1;33m-\u001b[0m\u001b[1;33m-\u001b[0m\u001b[1;33m-\u001b[0m\u001b[1;33m-\u001b[0m\u001b[1;33m-\u001b[0m\u001b[1;33m\u001b[0m\u001b[1;33m\u001b[0m\u001b[0m\n",
      "\u001b[1;32m~\\anaconda3\\lib\\site-packages\\pandas\\core\\ops\\array_ops.py\u001b[0m in \u001b[0;36m_na_arithmetic_op\u001b[1;34m(left, right, op, is_cmp)\u001b[0m\n\u001b[0;32m    137\u001b[0m     \u001b[0mnp\u001b[0m\u001b[1;33m.\u001b[0m\u001b[0mputmask\u001b[0m\u001b[1;33m(\u001b[0m\u001b[0mresult\u001b[0m\u001b[1;33m,\u001b[0m \u001b[1;33m~\u001b[0m\u001b[0mmask\u001b[0m\u001b[1;33m,\u001b[0m \u001b[0mnp\u001b[0m\u001b[1;33m.\u001b[0m\u001b[0mnan\u001b[0m\u001b[1;33m)\u001b[0m\u001b[1;33m\u001b[0m\u001b[1;33m\u001b[0m\u001b[0m\n\u001b[0;32m    138\u001b[0m     \u001b[0mresult\u001b[0m \u001b[1;33m=\u001b[0m \u001b[0mresult\u001b[0m\u001b[1;33m.\u001b[0m\u001b[0mreshape\u001b[0m\u001b[1;33m(\u001b[0m\u001b[0mx\u001b[0m\u001b[1;33m.\u001b[0m\u001b[0mshape\u001b[0m\u001b[1;33m)\u001b[0m  \u001b[1;31m# 2D compat\u001b[0m\u001b[1;33m\u001b[0m\u001b[1;33m\u001b[0m\u001b[0m\n\u001b[1;32m--> 139\u001b[1;33m     \u001b[1;32mreturn\u001b[0m \u001b[0mresult\u001b[0m\u001b[1;33m\u001b[0m\u001b[1;33m\u001b[0m\u001b[0m\n\u001b[0m\u001b[0;32m    140\u001b[0m \u001b[1;33m\u001b[0m\u001b[0m\n\u001b[0;32m    141\u001b[0m \u001b[1;33m\u001b[0m\u001b[0m\n",
      "\u001b[1;32m~\\anaconda3\\lib\\site-packages\\pandas\\core\\computation\\expressions.py\u001b[0m in \u001b[0;36m<module>\u001b[1;34m\u001b[0m\n\u001b[0;32m     16\u001b[0m \u001b[1;33m\u001b[0m\u001b[0m\n\u001b[0;32m     17\u001b[0m \u001b[1;32mfrom\u001b[0m \u001b[0mpandas\u001b[0m\u001b[1;33m.\u001b[0m\u001b[0m_typing\u001b[0m \u001b[1;32mimport\u001b[0m \u001b[0mFuncType\u001b[0m\u001b[1;33m\u001b[0m\u001b[1;33m\u001b[0m\u001b[0m\n\u001b[1;32m---> 18\u001b[1;33m \u001b[1;32mfrom\u001b[0m \u001b[0mpandas\u001b[0m\u001b[1;33m.\u001b[0m\u001b[0mutil\u001b[0m\u001b[1;33m.\u001b[0m\u001b[0m_exceptions\u001b[0m \u001b[1;32mimport\u001b[0m \u001b[0mfind_stack_level\u001b[0m\u001b[1;33m\u001b[0m\u001b[1;33m\u001b[0m\u001b[0m\n\u001b[0m\u001b[0;32m     19\u001b[0m \u001b[1;33m\u001b[0m\u001b[0m\n\u001b[0;32m     20\u001b[0m \u001b[1;32mfrom\u001b[0m \u001b[0mpandas\u001b[0m\u001b[1;33m.\u001b[0m\u001b[0mcore\u001b[0m\u001b[1;33m.\u001b[0m\u001b[0mcomputation\u001b[0m\u001b[1;33m.\u001b[0m\u001b[0mcheck\u001b[0m \u001b[1;32mimport\u001b[0m \u001b[0mNUMEXPR_INSTALLED\u001b[0m\u001b[1;33m\u001b[0m\u001b[1;33m\u001b[0m\u001b[0m\n",
      "\u001b[1;31mImportError\u001b[0m: cannot import name 'find_stack_level' from 'pandas.util._exceptions' (C:\\Users\\dell\\anaconda3\\lib\\site-packages\\pandas\\util\\_exceptions.py)"
     ]
    }
   ],
   "source": [
    "lda_vis = gensimvis.prepare(lda_model, corpus, dictionary, n_jobs=1) # 备注：上述语句如果在数据量比较大的时候跑不出来，可以选择加一个n_jobs=1的参数，降低计算量，避免报错\n",
    "# 显示可视化界面\n",
    "pyLDAvis.display(lda_vis)"
   ]
  },
  {
   "cell_type": "code",
   "execution_count": 34,
   "id": "b9043f5f",
   "metadata": {
    "ExecuteTime": {
     "end_time": "2024-05-07T02:02:44.419583Z",
     "start_time": "2024-05-07T02:02:44.414590Z"
    }
   },
   "outputs": [
    {
     "name": "stderr",
     "output_type": "stream",
     "text": [
      "C:\\Users\\dell\\anaconda3\\lib\\site-packages\\ipykernel\\ipkernel.py:287: DeprecationWarning: `should_run_async` will not call `transform_cell` automatically in the future. Please pass the result to `transformed_cell` argument and any exception that happen during thetransform in `preprocessing_exc_tuple` in IPython 7.17 and above.\n",
      "  and should_run_async(code)\n"
     ]
    }
   ],
   "source": [
    "# 导出可视化结果到html\n",
    "# pyLDAvis.save_html(lda_vis, 'lda_visualization.html')"
   ]
  },
  {
   "cell_type": "code",
   "execution_count": null,
   "id": "5124866a",
   "metadata": {},
   "outputs": [],
   "source": []
  }
 ],
 "metadata": {
  "kernelspec": {
   "display_name": "Python 3",
   "language": "python",
   "name": "python3"
  },
  "language_info": {
   "codemirror_mode": {
    "name": "ipython",
    "version": 3
   },
   "file_extension": ".py",
   "mimetype": "text/x-python",
   "name": "python",
   "nbconvert_exporter": "python",
   "pygments_lexer": "ipython3",
   "version": "3.8.8"
  },
  "toc": {
   "base_numbering": 1,
   "nav_menu": {},
   "number_sections": true,
   "sideBar": true,
   "skip_h1_title": false,
   "title_cell": "Table of Contents",
   "title_sidebar": "Contents",
   "toc_cell": false,
   "toc_position": {
    "height": "calc(100% - 180px)",
    "left": "10px",
    "top": "150px",
    "width": "232.727px"
   },
   "toc_section_display": true,
   "toc_window_display": true
  },
  "varInspector": {
   "cols": {
    "lenName": 16,
    "lenType": 16,
    "lenVar": 40
   },
   "kernels_config": {
    "python": {
     "delete_cmd_postfix": "",
     "delete_cmd_prefix": "del ",
     "library": "var_list.py",
     "varRefreshCmd": "print(var_dic_list())"
    },
    "r": {
     "delete_cmd_postfix": ") ",
     "delete_cmd_prefix": "rm(",
     "library": "var_list.r",
     "varRefreshCmd": "cat(var_dic_list()) "
    }
   },
   "types_to_exclude": [
    "module",
    "function",
    "builtin_function_or_method",
    "instance",
    "_Feature"
   ],
   "window_display": false
  }
 },
 "nbformat": 4,
 "nbformat_minor": 5
}
